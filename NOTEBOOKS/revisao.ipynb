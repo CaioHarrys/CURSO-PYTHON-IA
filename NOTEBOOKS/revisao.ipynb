{
 "cells": [
  {
   "cell_type": "markdown",
   "id": "c2a1b9c3",
   "metadata": {},
   "source": [
    "# Revisão Python\n",
    "### Concatenação de Strings\n"
   ]
  },
  {
   "cell_type": "code",
   "execution_count": 1,
   "id": "3298e889",
   "metadata": {},
   "outputs": [
    {
     "name": "stdout",
     "output_type": "stream",
     "text": [
      "Meu nome completo é: Luciano Lopes\n"
     ]
    }
   ],
   "source": [
    "# Concat +\n",
    "nome = 'Luciano'\n",
    "sobrenome = 'Lopes'\n",
    "\n",
    "print('Meu nome completo é: ' + nome+ ' ' + sobrenome)"
   ]
  },
  {
   "cell_type": "code",
   "execution_count": 2,
   "id": "4300bdd0",
   "metadata": {},
   "outputs": [
    {
     "name": "stdout",
     "output_type": "stream",
     "text": [
      "Meu nome completo é Luciano Lopes\n"
     ]
    }
   ],
   "source": [
    "# Concat.format \n",
    "\n",
    "print('Meu nome completo é {} {}'.format(nome, sobrenome))"
   ]
  },
  {
   "cell_type": "code",
   "execution_count": 3,
   "id": "e95aae1c",
   "metadata": {},
   "outputs": [
    {
     "name": "stdout",
     "output_type": "stream",
     "text": [
      "Meu nome completo é Luciano Lopes\n"
     ]
    }
   ],
   "source": [
    "# Concat\n",
    "\n",
    "print(f'Meu nome completo é {nome} {sobrenome}')"
   ]
  },
  {
   "cell_type": "code",
   "execution_count": 4,
   "id": "982ba006",
   "metadata": {},
   "outputs": [
    {
     "name": "stdout",
     "output_type": "stream",
     "text": [
      "Você é maior de idade\n"
     ]
    }
   ],
   "source": [
    "\n",
    "idade = 18\n",
    "\n",
    "if(idade >= 18):\n",
    "    print('Você é maior de idade')\n",
    "else: \n",
    "    print('Você é menor de idade')"
   ]
  },
  {
   "cell_type": "code",
   "execution_count": 5,
   "id": "449d4b9e",
   "metadata": {},
   "outputs": [
    {
     "name": "stdout",
     "output_type": "stream",
     "text": [
      "você não é cotista\n"
     ]
    }
   ],
   "source": [
    "cor = 'vermelho'\n",
    "\n",
    "if (cor == 'preto'):\n",
    "    print('você é cotista')\n",
    "elif (cor == 'pardo'):\n",
    "    print('você também é cotista')\n",
    "else:\n",
    "    print('você não é cotista')"
   ]
  }
 ],
 "metadata": {
  "kernelspec": {
   "display_name": ".venv",
   "language": "python",
   "name": "python3"
  },
  "language_info": {
   "codemirror_mode": {
    "name": "ipython",
    "version": 3
   },
   "file_extension": ".py",
   "mimetype": "text/x-python",
   "name": "python",
   "nbconvert_exporter": "python",
   "pygments_lexer": "ipython3",
   "version": "3.12.11"
  }
 },
 "nbformat": 4,
 "nbformat_minor": 5
}
