{
 "cells": [
  {
   "cell_type": "markdown",
   "id": "c7d6d2b8",
   "metadata": {},
   "source": [
    "# Analise"
   ]
  },
  {
   "cell_type": "code",
   "execution_count": 10,
   "id": "6bc1017a",
   "metadata": {},
   "outputs": [],
   "source": [
    "import pandas as pd\n",
    "import matplotlib as plt\n",
    "import numpy as np\n",
    "# CSV Import\n",
    "candidatos_tec1 = pd.read_csv('candidatos_tecnologia_1.csv')\n",
    "candidatos_tec2 = pd.read_csv('candidatos_tecnologia_2.csv')\n",
    "candidatos_tec3 = pd.read_csv('candidatos_tecnologia_3.csv')"
   ]
  },
  {
   "cell_type": "code",
   "execution_count": 14,
   "id": "6f62bf2c",
   "metadata": {},
   "outputs": [
    {
     "name": "stdout",
     "output_type": "stream",
     "text": [
      "<class 'pandas.core.frame.DataFrame'>\n",
      "RangeIndex: 1000 entries, 0 to 999\n",
      "Data columns (total 17 columns):\n",
      " #   Column                   Non-Null Count  Dtype  \n",
      "---  ------                   --------------  -----  \n",
      " 0   id_candidato             1000 non-null   int64  \n",
      " 1   data_inscricao           1000 non-null   object \n",
      " 2   nome                     900 non-null    object \n",
      " 3   genero                   900 non-null    object \n",
      " 4   estado                   900 non-null    object \n",
      " 5   idade                    900 non-null    float64\n",
      " 6   formacao                 900 non-null    object \n",
      " 7   area_atuacao             900 non-null    object \n",
      " 8   experiencia_anos         900 non-null    float64\n",
      " 9   certificacoes            900 non-null    float64\n",
      " 10  idiomas                  900 non-null    object \n",
      " 11  pretensao_salarial       900 non-null    float64\n",
      " 12  salario_vaga             900 non-null    float64\n",
      " 13  disponibilidade_viagem   900 non-null    object \n",
      " 14  disponibilidade_mudanca  900 non-null    object \n",
      " 15  pcd                      900 non-null    object \n",
      " 16  contratado               900 non-null    float64\n",
      "dtypes: float64(6), int64(1), object(10)\n",
      "memory usage: 132.9+ KB\n"
     ]
    }
   ],
   "source": [
    "candidatos_tec1.info()"
   ]
  },
  {
   "cell_type": "code",
   "execution_count": 15,
   "id": "25f2ebc5",
   "metadata": {},
   "outputs": [
    {
     "name": "stdout",
     "output_type": "stream",
     "text": [
      "<class 'pandas.core.frame.DataFrame'>\n",
      "RangeIndex: 1000 entries, 0 to 999\n",
      "Data columns (total 17 columns):\n",
      " #   Column              Non-Null Count  Dtype  \n",
      "---  ------              --------------  -----  \n",
      " 0   codigo_candidato    1000 non-null   int64  \n",
      " 1   data_cadastro       1000 non-null   object \n",
      " 2   nome_completo       900 non-null    object \n",
      " 3   sexo                900 non-null    object \n",
      " 4   uf                  900 non-null    object \n",
      " 5   faixa_etaria        900 non-null    float64\n",
      " 6   nivel_educacional   900 non-null    object \n",
      " 7   setor_profissional  900 non-null    object \n",
      " 8   tempo_experiencia   900 non-null    float64\n",
      " 9   qtd_certificacoes   900 non-null    float64\n",
      " 10  idioma_principal    900 non-null    object \n",
      " 11  salario_esperado    900 non-null    float64\n",
      " 12  salario_oferecido   900 non-null    float64\n",
      " 13  aceita_viagem       900 non-null    object \n",
      " 14  aceita_mudanca      900 non-null    object \n",
      " 15  deficiencia         900 non-null    object \n",
      " 16  foi_contratado      900 non-null    float64\n",
      "dtypes: float64(6), int64(1), object(10)\n",
      "memory usage: 132.9+ KB\n"
     ]
    }
   ],
   "source": [
    "candidatos_tec2.info()"
   ]
  },
  {
   "cell_type": "code",
   "execution_count": 16,
   "id": "7e27c3c5",
   "metadata": {},
   "outputs": [
    {
     "name": "stdout",
     "output_type": "stream",
     "text": [
      "<class 'pandas.core.frame.DataFrame'>\n",
      "RangeIndex: 1000 entries, 0 to 999\n",
      "Data columns (total 17 columns):\n",
      " #   Column                   Non-Null Count  Dtype  \n",
      "---  ------                   --------------  -----  \n",
      " 0   ID DO CANDIDATO          1000 non-null   int64  \n",
      " 1   DATA DE INSCRIÇÃO        1000 non-null   object \n",
      " 2   NOME COMPLETO            900 non-null    object \n",
      " 3   GÊNERO                   900 non-null    object \n",
      " 4   ESTADO                   900 non-null    object \n",
      " 5   IDADE                    900 non-null    float64\n",
      " 6   FORMAÇÃO ACADÊMICA       900 non-null    object \n",
      " 7   ÁREA DE ATUAÇÃO          900 non-null    object \n",
      " 8   ANOS DE EXPERIÊNCIA      900 non-null    float64\n",
      " 9   CERTIFICAÇÕES            900 non-null    float64\n",
      " 10  IDIOMA                   900 non-null    object \n",
      " 11  PRETENSÃO SALARIAL       900 non-null    float64\n",
      " 12  SALÁRIO DA VAGA          900 non-null    float64\n",
      " 13  DISPONÍVEL PARA VIAGENS  900 non-null    object \n",
      " 14  DISPONÍVEL PARA MUDANÇA  900 non-null    object \n",
      " 15  É PCD                    900 non-null    object \n",
      " 16  STATUS DE CONTRATAÇÃO    900 non-null    float64\n",
      "dtypes: float64(6), int64(1), object(10)\n",
      "memory usage: 132.9+ KB\n"
     ]
    }
   ],
   "source": [
    "candidatos_tec3.info()"
   ]
  }
 ],
 "metadata": {
  "kernelspec": {
   "display_name": ".venv",
   "language": "python",
   "name": "python3"
  },
  "language_info": {
   "codemirror_mode": {
    "name": "ipython",
    "version": 3
   },
   "file_extension": ".py",
   "mimetype": "text/x-python",
   "name": "python",
   "nbconvert_exporter": "python",
   "pygments_lexer": "ipython3",
   "version": "3.13.2"
  }
 },
 "nbformat": 4,
 "nbformat_minor": 5
}
