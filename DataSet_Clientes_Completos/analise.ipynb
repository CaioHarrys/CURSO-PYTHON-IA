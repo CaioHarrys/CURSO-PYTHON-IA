{
 "cells": [
  {
   "cell_type": "markdown",
   "id": "97c9c6f9",
   "metadata": {},
   "source": [
    "# Analise"
   ]
  },
  {
   "cell_type": "code",
   "execution_count": 3,
   "id": "7be8acd9",
   "metadata": {},
   "outputs": [],
   "source": [
    "import pandas as pd\n",
    "import matplotlib.pyplot as plt\n",
    "\n",
    "df_vendas1 = pd.read_csv('./dataset_clientes_completo.csv')\n",
    "df_vendas2 = pd.read_csv('./dataset_clientes_completo_2.csv')"
   ]
  },
  {
   "cell_type": "code",
   "execution_count": 4,
   "id": "0f4a5848",
   "metadata": {},
   "outputs": [
    {
     "data": {
      "text/html": [
       "<div>\n",
       "<style scoped>\n",
       "    .dataframe tbody tr th:only-of-type {\n",
       "        vertical-align: middle;\n",
       "    }\n",
       "\n",
       "    .dataframe tbody tr th {\n",
       "        vertical-align: top;\n",
       "    }\n",
       "\n",
       "    .dataframe thead th {\n",
       "        text-align: right;\n",
       "    }\n",
       "</style>\n",
       "<table border=\"1\" class=\"dataframe\">\n",
       "  <thead>\n",
       "    <tr style=\"text-align: right;\">\n",
       "      <th></th>\n",
       "      <th>nome</th>\n",
       "      <th>idade</th>\n",
       "      <th>cidade</th>\n",
       "      <th>data_nasc</th>\n",
       "      <th>renda_mensal</th>\n",
       "      <th>comprou</th>\n",
       "    </tr>\n",
       "  </thead>\n",
       "  <tbody>\n",
       "    <tr>\n",
       "      <th>0</th>\n",
       "      <td>Bruno</td>\n",
       "      <td>NaN</td>\n",
       "      <td>RJ</td>\n",
       "      <td>15/09/1984</td>\n",
       "      <td>NaN</td>\n",
       "      <td>1</td>\n",
       "    </tr>\n",
       "    <tr>\n",
       "      <th>1</th>\n",
       "      <td>NaN</td>\n",
       "      <td>59.0</td>\n",
       "      <td>SC</td>\n",
       "      <td>01/12/1978</td>\n",
       "      <td>5587.73</td>\n",
       "      <td>0</td>\n",
       "    </tr>\n",
       "    <tr>\n",
       "      <th>2</th>\n",
       "      <td>Mariane</td>\n",
       "      <td>35.0</td>\n",
       "      <td>MG</td>\n",
       "      <td>24/11/1965</td>\n",
       "      <td>4574.79</td>\n",
       "      <td>0</td>\n",
       "    </tr>\n",
       "    <tr>\n",
       "      <th>3</th>\n",
       "      <td>Murilo</td>\n",
       "      <td>70.0</td>\n",
       "      <td>MG</td>\n",
       "      <td>28/01/1989</td>\n",
       "      <td>9305.10</td>\n",
       "      <td>0</td>\n",
       "    </tr>\n",
       "    <tr>\n",
       "      <th>4</th>\n",
       "      <td>Emanuelly</td>\n",
       "      <td>NaN</td>\n",
       "      <td>SP</td>\n",
       "      <td>16/08/1984</td>\n",
       "      <td>5721.99</td>\n",
       "      <td>0</td>\n",
       "    </tr>\n",
       "    <tr>\n",
       "      <th>...</th>\n",
       "      <td>...</td>\n",
       "      <td>...</td>\n",
       "      <td>...</td>\n",
       "      <td>...</td>\n",
       "      <td>...</td>\n",
       "      <td>...</td>\n",
       "    </tr>\n",
       "    <tr>\n",
       "      <th>1995</th>\n",
       "      <td>Maria Cecília</td>\n",
       "      <td>27.0</td>\n",
       "      <td>SP</td>\n",
       "      <td>19/06/1983</td>\n",
       "      <td>11010.54</td>\n",
       "      <td>1</td>\n",
       "    </tr>\n",
       "    <tr>\n",
       "      <th>1996</th>\n",
       "      <td>Fernanda</td>\n",
       "      <td>67.0</td>\n",
       "      <td>BA</td>\n",
       "      <td>02/09/1998</td>\n",
       "      <td>5494.28</td>\n",
       "      <td>1</td>\n",
       "    </tr>\n",
       "    <tr>\n",
       "      <th>1997</th>\n",
       "      <td>Fernanda</td>\n",
       "      <td>35.0</td>\n",
       "      <td>NaN</td>\n",
       "      <td>31/03/1962</td>\n",
       "      <td>2253.63</td>\n",
       "      <td>0</td>\n",
       "    </tr>\n",
       "    <tr>\n",
       "      <th>1998</th>\n",
       "      <td>Helena</td>\n",
       "      <td>28.0</td>\n",
       "      <td>RS</td>\n",
       "      <td>29/05/1994</td>\n",
       "      <td>7870.88</td>\n",
       "      <td>1</td>\n",
       "    </tr>\n",
       "    <tr>\n",
       "      <th>1999</th>\n",
       "      <td>Maria Eduarda</td>\n",
       "      <td>18.0</td>\n",
       "      <td>BA</td>\n",
       "      <td>12/07/1967</td>\n",
       "      <td>10881.54</td>\n",
       "      <td>1</td>\n",
       "    </tr>\n",
       "  </tbody>\n",
       "</table>\n",
       "<p>2000 rows × 6 columns</p>\n",
       "</div>"
      ],
      "text/plain": [
       "               nome  idade cidade   data_nasc  renda_mensal  comprou\n",
       "0             Bruno    NaN     RJ  15/09/1984           NaN        1\n",
       "1               NaN   59.0     SC  01/12/1978       5587.73        0\n",
       "2           Mariane   35.0     MG  24/11/1965       4574.79        0\n",
       "3            Murilo   70.0     MG  28/01/1989       9305.10        0\n",
       "4         Emanuelly    NaN     SP  16/08/1984       5721.99        0\n",
       "...             ...    ...    ...         ...           ...      ...\n",
       "1995  Maria Cecília   27.0     SP  19/06/1983      11010.54        1\n",
       "1996       Fernanda   67.0     BA  02/09/1998       5494.28        1\n",
       "1997       Fernanda   35.0    NaN  31/03/1962       2253.63        0\n",
       "1998         Helena   28.0     RS  29/05/1994       7870.88        1\n",
       "1999  Maria Eduarda   18.0     BA  12/07/1967      10881.54        1\n",
       "\n",
       "[2000 rows x 6 columns]"
      ]
     },
     "execution_count": 4,
     "metadata": {},
     "output_type": "execute_result"
    }
   ],
   "source": [
    "df = pd.concat([df_vendas1, df_vendas2], ignore_index=True)\n",
    "df"
   ]
  },
  {
   "cell_type": "code",
   "execution_count": 5,
   "id": "df325c78",
   "metadata": {},
   "outputs": [
    {
     "name": "stdout",
     "output_type": "stream",
     "text": [
      "<class 'pandas.core.frame.DataFrame'>\n",
      "RangeIndex: 2000 entries, 0 to 1999\n",
      "Data columns (total 6 columns):\n",
      " #   Column        Non-Null Count  Dtype  \n",
      "---  ------        --------------  -----  \n",
      " 0   nome          1930 non-null   object \n",
      " 1   idade         1855 non-null   float64\n",
      " 2   cidade        1854 non-null   object \n",
      " 3   data_nasc     1976 non-null   object \n",
      " 4   renda_mensal  1555 non-null   float64\n",
      " 5   comprou       2000 non-null   int64  \n",
      "dtypes: float64(2), int64(1), object(3)\n",
      "memory usage: 93.9+ KB\n"
     ]
    }
   ],
   "source": [
    "df.info()\n"
   ]
  },
  {
   "cell_type": "code",
   "execution_count": 6,
   "id": "539d0682",
   "metadata": {},
   "outputs": [
    {
     "data": {
      "text/plain": [
       "<Axes: title={'center': 'Cidades'}, xlabel='cidade'>"
      ]
     },
     "execution_count": 6,
     "metadata": {},
     "output_type": "execute_result"
    },
    {
     "data": {
      "image/png": "[encoded data removed]",
      "text/plain": [
       "<Figure size 640x480 with 1 Axes>"
      ]
     },
     "metadata": {},
     "output_type": "display_data"
    }
   ],
   "source": [
    "df['cidade'].value_counts().plot(title='Cidades', kind='bar')\n"
   ]
  },
  {
   "cell_type": "code",
   "execution_count": 25,
   "id": "53abd1c0",
   "metadata": {},
   "outputs": [
    {
     "name": "stdout",
     "output_type": "stream",
     "text": [
      "Menor renda: 1200.49\n",
      "Maior renda: 14999.37\n",
      "Maior renda: 7963.07\n",
      "Mediana : 8002.91\n"
     ]
    }
   ],
   "source": [
    "print(f'Menor renda: {df['renda_mensal'].min()}')\n",
    "print(f'Maior renda: {df['renda_mensal'].max()}')\n",
    "print(f'Maior renda: {round(df['renda_mensal'].mean(),2)}')\n",
    "print(f'Mediana : {df['renda_mensal'].median()}')\n"
   ]
  },
  {
   "cell_type": "code",
   "execution_count": 32,
   "id": "eb579ade",
   "metadata": {},
   "outputs": [
    {
     "data": {
      "text/plain": [
       "<Axes: xlabel='idade'>"
      ]
     },
     "execution_count": 32,
     "metadata": {},
     "output_type": "execute_result"
    },
    {
     "data": {
      "image/png": "[encoded data removed]",
      "text/plain": [
       "<Figure size 640x480 with 1 Axes>"
      ]
     },
     "metadata": {},
     "output_type": "display_data"
    }
   ],
   "source": [
    "df.groupby('idade')['renda_mensal'].mean().plot(kind='bar')\n"
   ]
  },
  {
   "cell_type": "code",
   "execution_count": 31,
   "id": "b9f6c476",
   "metadata": {},
   "outputs": [
    {
     "data": {
      "image/png": "[encoded data removed]",
      "text/plain": [
       "<Figure size 640x480 with 1 Axes>"
      ]
     },
     "metadata": {},
     "output_type": "display_data"
    }
   ],
   "source": [
    "plt.hist(df.groupby('idade')['renda_mensal'].mean())\n",
    "plt.show()"
   ]
  }
 ],
 "metadata": {
  "kernelspec": {
   "display_name": ".venv",
   "language": "python",
   "name": "python3"
  },
  "language_info": {
   "codemirror_mode": {
    "name": "ipython",
    "version": 3
   },
   "file_extension": ".py",
   "mimetype": "text/x-python",
   "name": "python",
   "nbconvert_exporter": "python",
   "pygments_lexer": "ipython3",
   "version": "3.13.2"
  }
 },
 "nbformat": 4,
 "nbformat_minor": 5
}
