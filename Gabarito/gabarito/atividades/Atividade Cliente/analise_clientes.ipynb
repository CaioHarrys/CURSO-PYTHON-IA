{
 "cells": [
  {
   "cell_type": "markdown",
   "id": "09a005b4",
   "metadata": {},
   "source": [
    "# Analise de Compra\n",
    "\n",
    "Analise Exploratoria e Tratamento de dados"
   ]
  },
  {
   "cell_type": "code",
   "execution_count": null,
   "id": "e320c537",
   "metadata": {},
   "outputs": [],
   "source": [
    "!pip install matplotlib -q\n",
    "\n",
    "import pandas as pd\n",
    "import matplotlib.pyplot as plt\n",
    "\n",
    "df_vendas1 = pd.read_csv('./dataset_clientes_completo.csv')\n",
    "df_vendas2 = pd.read_csv('./dataset_clientes_completo_2.csv')"
   ]
  },
  {
   "cell_type": "markdown",
   "id": "6d6446dd",
   "metadata": {},
   "source": [
    "# Analise Exploratoria"
   ]
  },
  {
   "cell_type": "code",
   "execution_count": null,
   "id": "7ffc0625",
   "metadata": {},
   "outputs": [],
   "source": [
    "df_vendas1.head()"
   ]
  },
  {
   "cell_type": "code",
   "execution_count": null,
   "id": "947c9ac0",
   "metadata": {},
   "outputs": [],
   "source": [
    "df_vendas1.tail()"
   ]
  },
  {
   "cell_type": "code",
   "execution_count": null,
   "id": "4ad10713",
   "metadata": {},
   "outputs": [],
   "source": [
    "df_vendas1.info()"
   ]
  },
  {
   "cell_type": "markdown",
   "id": "4e215fa5",
   "metadata": {},
   "source": [
    "# Reconhecimento o segundo dataset"
   ]
  },
  {
   "cell_type": "code",
   "execution_count": null,
   "id": "418c3d9f",
   "metadata": {},
   "outputs": [],
   "source": [
    "df_vendas2.head()"
   ]
  },
  {
   "cell_type": "code",
   "execution_count": null,
   "id": "717e2f79",
   "metadata": {},
   "outputs": [],
   "source": [
    "df_vendas2.tail()"
   ]
  },
  {
   "cell_type": "code",
   "execution_count": null,
   "id": "c9ba757a",
   "metadata": {},
   "outputs": [],
   "source": [
    "df_vendas2.info()"
   ]
  },
  {
   "cell_type": "code",
   "execution_count": null,
   "id": "ce30f45d",
   "metadata": {},
   "outputs": [],
   "source": [
    "# Juntando os dois dataset\n",
    "\n",
    "df_completo = pd.concat([df_vendas1,df_vendas2],ignore_index=True)\n",
    "df_completo"
   ]
  },
  {
   "cell_type": "code",
   "execution_count": null,
   "id": "edf5c18f",
   "metadata": {},
   "outputs": [],
   "source": [
    "df_completo.info()"
   ]
  },
  {
   "cell_type": "markdown",
   "id": "fd23034c",
   "metadata": {},
   "source": [
    "# Tratamento de Dados\n",
    "\n",
    "Filtrando valores "
   ]
  },
  {
   "cell_type": "code",
   "execution_count": null,
   "id": "f1f3d4e6",
   "metadata": {},
   "outputs": [],
   "source": [
    "\n",
    "df_completo[(df_completo['cidade'] == 'MG') & (df_completo['idade'] == 30)]\n"
   ]
  },
  {
   "cell_type": "code",
   "execution_count": null,
   "id": "d8bb336f",
   "metadata": {},
   "outputs": [],
   "source": [
    "df_completo[df_completo['cidade'].isin(['SP','BA'])]"
   ]
  },
  {
   "cell_type": "markdown",
   "id": "b1c44967",
   "metadata": {},
   "source": [
    "# Encontrando valores Nulos"
   ]
  },
  {
   "cell_type": "code",
   "execution_count": null,
   "id": "6bfc84e4",
   "metadata": {},
   "outputs": [],
   "source": [
    "df_completo[df_completo['cidade'].isna()]"
   ]
  },
  {
   "cell_type": "code",
   "execution_count": null,
   "id": "057b675d",
   "metadata": {},
   "outputs": [],
   "source": [
    "df_completo[df_completo['cidade'].notna()]"
   ]
  },
  {
   "cell_type": "code",
   "execution_count": null,
   "id": "98a0d65e",
   "metadata": {},
   "outputs": [],
   "source": [
    "# Ao transferir valores de uma variavel para outra,\n",
    "# estamos apenas apontando o mesmo endereço de memoria.\n",
    "\n",
    "df_completo2 = df_completo\n",
    "print(hex(id(df_completo)))\n",
    "print(hex(id(df_completo2)))"
   ]
  },
  {
   "cell_type": "code",
   "execution_count": null,
   "id": "4dd831ec",
   "metadata": {},
   "outputs": [],
   "source": [
    "# Fazendo backup do dataframe\n",
    "\n",
    "df_completo3 = df_completo.copy()\n",
    "print(hex(id(df_completo)))\n",
    "print(hex(id(df_completo3)))"
   ]
  },
  {
   "cell_type": "markdown",
   "id": "92415c5b",
   "metadata": {},
   "source": [
    "# Tratamento de forma sofisticada"
   ]
  },
  {
   "cell_type": "code",
   "execution_count": null,
   "id": "434d202a",
   "metadata": {},
   "outputs": [],
   "source": [
    "df_completo3.info()"
   ]
  },
  {
   "cell_type": "code",
   "execution_count": null,
   "id": "296ae5dd",
   "metadata": {},
   "outputs": [],
   "source": [
    "df_completo3[df_completo3['data_nasc'].isna()]"
   ]
  },
  {
   "cell_type": "code",
   "execution_count": null,
   "id": "c934698e",
   "metadata": {},
   "outputs": [],
   "source": [
    "df_nasc = df_completo3.dropna(subset=['data_nasc'])\n",
    "df_nasc.info()"
   ]
  },
  {
   "cell_type": "code",
   "execution_count": null,
   "id": "0a80d30f",
   "metadata": {},
   "outputs": [],
   "source": [
    "# Tecnica 'Slice'\n",
    "\n",
    "df_sem_nome = df_completo3[1:6]\n",
    "\n",
    "# Falhou\n",
    "df_sem_nome"
   ]
  },
  {
   "cell_type": "code",
   "execution_count": null,
   "id": "c01d8c9e",
   "metadata": {},
   "outputs": [],
   "source": [
    "# Metodo de listar as colunas e excluir a que nao queremos.\n",
    "\n",
    "df_sem_nome = df_completo3[['idade','idade','cidade','data_nasc','renda_mensal','comprou']]\n",
    "df_sem_nome"
   ]
  },
  {
   "cell_type": "code",
   "execution_count": null,
   "id": "72a440a1",
   "metadata": {},
   "outputs": [],
   "source": [
    "# Metodo drop\n",
    "\n",
    "df_sem_nome2 = df_completo3.drop('nome',axis=1) # parametro axis= muda o eixo\n",
    "\n",
    "df_sem_nome2"
   ]
  },
  {
   "cell_type": "code",
   "execution_count": null,
   "id": "62b1c1ea",
   "metadata": {},
   "outputs": [],
   "source": [
    "df_completo3.drop( 'nome',axis=1, inplace=True) # Inplace= True, aplicada o comando no dataframe diretamente\n",
    "\n",
    "df_completo3"
   ]
  },
  {
   "cell_type": "markdown",
   "id": "e9307e46",
   "metadata": {},
   "source": [
    "# Loc() and ILoc()\n",
    "\n",
    "Procurar informação no dataframe"
   ]
  },
  {
   "cell_type": "code",
   "execution_count": null,
   "id": "fb9cbfe0",
   "metadata": {},
   "outputs": [],
   "source": [
    "# Loc \n",
    "\n",
    "df_completo3.loc[1997, 'renda_mensal'] # Busca pelo nome"
   ]
  },
  {
   "cell_type": "code",
   "execution_count": null,
   "id": "fe1494d3",
   "metadata": {},
   "outputs": [],
   "source": [
    "# ILoc\n",
    "\n",
    "df_completo3.iloc[1997,3] # Busco pelo indice da coluna"
   ]
  },
  {
   "cell_type": "code",
   "execution_count": null,
   "id": "6a872021",
   "metadata": {},
   "outputs": [],
   "source": [
    "# ILoc (metodo Slice)\n",
    "\n",
    "df_completo3.iloc[100:151,1:4]# Intevalo "
   ]
  }
 ],
 "metadata": {
  "kernelspec": {
   "display_name": ".venv",
   "language": "python",
   "name": "python3"
  },
  "language_info": {
   "codemirror_mode": {
    "name": "ipython",
    "version": 3
   },
   "file_extension": ".py",
   "mimetype": "text/x-python",
   "name": "python",
   "nbconvert_exporter": "python",
   "pygments_lexer": "ipython3",
   "version": "3.12.10"
  }
 },
 "nbformat": 4,
 "nbformat_minor": 5
}
