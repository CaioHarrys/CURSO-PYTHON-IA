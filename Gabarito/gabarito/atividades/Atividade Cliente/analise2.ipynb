{
 "cells": [
  {
   "cell_type": "markdown",
   "id": "d66b670a",
   "metadata": {},
   "source": [
    "# Analise de Compras"
   ]
  },
  {
   "cell_type": "code",
   "execution_count": null,
   "id": "806fd974",
   "metadata": {},
   "outputs": [],
   "source": [
    "import pandas as pd\n",
    "import matplotlib.pyplot as plt\n",
    "\n",
    "df_vendas1 = pd.read_csv('./dataset_clientes_completo.csv')\n",
    "df_vendas2 = pd.read_csv('./dataset_clientes_completo_2.csv')"
   ]
  },
  {
   "cell_type": "markdown",
   "id": "9001e73f",
   "metadata": {},
   "source": [
    "# Analise Exploratoria"
   ]
  },
  {
   "cell_type": "code",
   "execution_count": null,
   "id": "e932bd64",
   "metadata": {},
   "outputs": [],
   "source": [
    "df_vendas1.head()"
   ]
  },
  {
   "cell_type": "code",
   "execution_count": null,
   "id": "677c74df",
   "metadata": {},
   "outputs": [],
   "source": [
    "df_vendas1.tail()"
   ]
  },
  {
   "cell_type": "code",
   "execution_count": null,
   "id": "4bab853f",
   "metadata": {},
   "outputs": [],
   "source": [
    "df_vendas1.info()"
   ]
  },
  {
   "cell_type": "code",
   "execution_count": null,
   "id": "41538a24",
   "metadata": {},
   "outputs": [],
   "source": [
    "df_vendas2.head()"
   ]
  },
  {
   "cell_type": "code",
   "execution_count": null,
   "id": "6035a7e0",
   "metadata": {},
   "outputs": [],
   "source": [
    "df_vendas2.tail()"
   ]
  },
  {
   "cell_type": "code",
   "execution_count": null,
   "id": "9574b0ea",
   "metadata": {},
   "outputs": [],
   "source": [
    "df_vendas2.info()"
   ]
  },
  {
   "cell_type": "code",
   "execution_count": null,
   "id": "d9a36d5a",
   "metadata": {},
   "outputs": [],
   "source": [
    "df = pd.concat([df_vendas1,df_vendas2],ignore_index=True)\n",
    "df"
   ]
  },
  {
   "cell_type": "code",
   "execution_count": null,
   "id": "73217e7e",
   "metadata": {},
   "outputs": [],
   "source": [
    "df.info()"
   ]
  },
  {
   "cell_type": "markdown",
   "id": "66e8db70",
   "metadata": {},
   "source": [
    "# Tratamento de Dados"
   ]
  },
  {
   "cell_type": "code",
   "execution_count": null,
   "id": "a1317932",
   "metadata": {},
   "outputs": [],
   "source": [
    "cidade = df['cidade'].value_counts()\n",
    "\n",
    "plt.bar(cidade.index,cidade.values, label='Pessoas')\n",
    "plt.title('Cidade')\n",
    "plt.legend()\n",
    "plt.show()"
   ]
  },
  {
   "cell_type": "code",
   "execution_count": null,
   "id": "0a738bbf",
   "metadata": {},
   "outputs": [],
   "source": [
    "print(f'Menor renda: {df['renda_mensal'].min()}')\n",
    "print(f'Maior renda: {df['renda_mensal'].max()}')\n",
    "print(f'Renda media renda:{round(df['renda_mensal'].mean(),2)}')\n"
   ]
  },
  {
   "cell_type": "code",
   "execution_count": null,
   "id": "56a869fe",
   "metadata": {},
   "outputs": [],
   "source": [
    "print(f'Mediana renda:{df['renda_mensal'].median()}')"
   ]
  },
  {
   "cell_type": "code",
   "execution_count": null,
   "id": "56f5832c",
   "metadata": {},
   "outputs": [],
   "source": [
    "df.groupby('cidade')['renda_mensal'].mean().plot(kind='bar')"
   ]
  },
  {
   "cell_type": "code",
   "execution_count": null,
   "id": "a4a98443",
   "metadata": {},
   "outputs": [],
   "source": [
    "plt.hist(df['renda_mensal'])\n",
    "plt.show()"
   ]
  },
  {
   "cell_type": "code",
   "execution_count": null,
   "id": "c9307fdf",
   "metadata": {},
   "outputs": [],
   "source": [
    "df.groupby('idade')['renda_mensal'].mean().plot(kind='bar')"
   ]
  },
  {
   "cell_type": "code",
   "execution_count": null,
   "id": "99f694b6",
   "metadata": {},
   "outputs": [],
   "source": [
    "df.groupby('idade')['renda_mensal'].mean().plot(kind='hist')"
   ]
  },
  {
   "cell_type": "code",
   "execution_count": null,
   "id": "98a7053d",
   "metadata": {},
   "outputs": [],
   "source": [
    "comprou = df['comprou'].value_counts()\n",
    "\n",
    "plt.bar(comprou.index,comprou.values, label='Compradores')\n",
    "plt.title('Compradores')\n",
    "plt.ylabel('Pessoas')\n",
    "plt.xticks([0,1])\n",
    "plt.legend()\n",
    "plt.show()"
   ]
  },
  {
   "cell_type": "code",
   "execution_count": null,
   "id": "895e549d",
   "metadata": {},
   "outputs": [],
   "source": [
    "df.describe()"
   ]
  },
  {
   "cell_type": "code",
   "execution_count": null,
   "id": "a07ba167",
   "metadata": {},
   "outputs": [],
   "source": [
    "# Mudar o nome da coluna\n",
    "\n",
    "df.rename(columns={'cidade':'uf'}, inplace=True)\n",
    "\n",
    "# Excluindo a serie nome\n",
    "\n",
    "df.drop('nome',axis=1,inplace=True)\n",
    "\n",
    "# Convertendo datas para datetime\n",
    "\n",
    "df['nascimento'] = pd.to_datetime(df['data_nasc'], errors='coerce') # Caso a data estiver incorreta o errors='coerce' ira corrigir\n",
    "\n",
    "df.drop('data_nasc',axis=1,inplace=True)\n",
    "\n",
    "df"
   ]
  },
  {
   "cell_type": "code",
   "execution_count": null,
   "id": "6a8781f2",
   "metadata": {},
   "outputs": [],
   "source": [
    "df['nascimento'].info()"
   ]
  },
  {
   "cell_type": "code",
   "execution_count": null,
   "id": "be5decc2",
   "metadata": {},
   "outputs": [],
   "source": [
    "# Excluir os valores nulos da lista nascimento\n",
    "\n",
    "df.dropna(subset=['nascimento'], inplace=True)\n",
    "df.info()"
   ]
  },
  {
   "cell_type": "markdown",
   "id": "54b7e281",
   "metadata": {},
   "source": [
    "# Fillna \n",
    "\n",
    "Preencher os valores nulos com a moda da coluna"
   ]
  },
  {
   "cell_type": "code",
   "execution_count": null,
   "id": "0176c85f",
   "metadata": {},
   "outputs": [],
   "source": [
    "moda = df['uf'].mode() # Definido a moda que a gente quer\n",
    "\n",
    "df['uf'].fillna(moda[0], inplace=True) # Sempre vem duas modas, coloca o indice 0 para so uma moda\n",
    "\n",
    "df.info()"
   ]
  },
  {
   "cell_type": "code",
   "execution_count": null,
   "id": "41a209c2",
   "metadata": {},
   "outputs": [],
   "source": [
    "df['renda_mensal'].fillna(df['renda_mensal'].mean(), inplace=True) # Preenchendo a coluna renda_mensal com a media, pois os valores estao proximos a media \n",
    "df.info()"
   ]
  },
  {
   "cell_type": "markdown",
   "id": "8c81d792",
   "metadata": {},
   "source": [
    "# Calcular as idades atravez da data de nacimento e preecher "
   ]
  },
  {
   "cell_type": "code",
   "execution_count": null,
   "id": "10a1b17e",
   "metadata": {},
   "outputs": [],
   "source": [
    "import datetime "
   ]
  },
  {
   "cell_type": "code",
   "execution_count": null,
   "id": "a85e2408",
   "metadata": {},
   "outputs": [],
   "source": [
    "hoje = pd.to_datetime('today')\n",
    "\n",
    "df['calc_idade'] = round((hoje - df['nascimento']).dt.days/365)\n",
    "df"
   ]
  },
  {
   "cell_type": "code",
   "execution_count": null,
   "id": "7e0b5091",
   "metadata": {},
   "outputs": [],
   "source": [
    "df.info()"
   ]
  }
 ],
 "metadata": {
  "kernelspec": {
   "display_name": ".venv",
   "language": "python",
   "name": "python3"
  },
  "language_info": {
   "codemirror_mode": {
    "name": "ipython",
    "version": 3
   },
   "file_extension": ".py",
   "mimetype": "text/x-python",
   "name": "python",
   "nbconvert_exporter": "python",
   "pygments_lexer": "ipython3",
   "version": "3.12.10"
  }
 },
 "nbformat": 4,
 "nbformat_minor": 5
}
