{
 "cells": [
  {
   "cell_type": "markdown",
   "id": "d3df0e41-acf6-41eb-93de-bdf029e20f81",
   "metadata": {},
   "source": [
    "Analise de Dados"
   ]
  },
  {
   "cell_type": "code",
   "execution_count": 1,
   "id": "9e99506e-7f35-4be2-8f04-bc536865b216",
   "metadata": {},
   "outputs": [],
   "source": [
    "!pip install pandas -q"
   ]
  },
  {
   "cell_type": "code",
   "execution_count": 2,
   "id": "3217351c-aa1c-45b0-b0db-8d36bc7d1cd9",
   "metadata": {},
   "outputs": [],
   "source": [
    "import pandas as pd"
   ]
  },
  {
   "cell_type": "code",
   "execution_count": 3,
   "id": "5747e425-f4ab-43e6-a533-4686ba46749d",
   "metadata": {},
   "outputs": [],
   "source": [
    "# Lendo o arquivo .csv (Necessita falar o destinatario do arquivo)\n",
    "\n",
    "dados = pd.read_csv('./vendas.csv', sep= ';')"
   ]
  },
  {
   "cell_type": "code",
   "execution_count": 4,
   "id": "d8990b89-ca3d-4942-8cbc-46c6462c72c4",
   "metadata": {},
   "outputs": [
    {
     "ename": "NameError",
     "evalue": "name 'vd' is not defined",
     "output_type": "error",
     "traceback": [
      "\u001b[31m---------------------------------------------------------------------------\u001b[39m",
      "\u001b[31mNameError\u001b[39m                                 Traceback (most recent call last)",
      "\u001b[36mCell\u001b[39m\u001b[36m \u001b[39m\u001b[32mIn[4]\u001b[39m\u001b[32m, line 1\u001b[39m\n\u001b[32m----> \u001b[39m\u001b[32m1\u001b[39m \u001b[38;5;28mprint\u001b[39m(\u001b[38;5;28mtype\u001b[39m(\u001b[43mvd\u001b[49m))\n",
      "\u001b[31mNameError\u001b[39m: name 'vd' is not defined"
     ]
    }
   ],
   "source": [
    "print(type(vd))"
   ]
  },
  {
   "cell_type": "code",
   "execution_count": null,
   "id": "929e5ed6-6d4d-48ff-81d6-fd99180f2dc7",
   "metadata": {},
   "outputs": [
    {
     "data": {
      "text/html": [
       "<div>\n",
       "<style scoped>\n",
       "    .dataframe tbody tr th:only-of-type {\n",
       "        vertical-align: middle;\n",
       "    }\n",
       "\n",
       "    .dataframe tbody tr th {\n",
       "        vertical-align: top;\n",
       "    }\n",
       "\n",
       "    .dataframe thead th {\n",
       "        text-align: right;\n",
       "    }\n",
       "</style>\n",
       "<table border=\"1\" class=\"dataframe\">\n",
       "  <thead>\n",
       "    <tr style=\"text-align: right;\">\n",
       "      <th></th>\n",
       "      <th>ID_Pedido</th>\n",
       "      <th>Data_Compra</th>\n",
       "      <th>Cliente_ID</th>\n",
       "      <th>Valor_Total</th>\n",
       "      <th>Categoria_Produto</th>\n",
       "      <th>Quantidade</th>\n",
       "    </tr>\n",
       "  </thead>\n",
       "  <tbody>\n",
       "    <tr>\n",
       "      <th>0</th>\n",
       "      <td>1001</td>\n",
       "      <td>2024-03-01</td>\n",
       "      <td>501</td>\n",
       "      <td>150.75</td>\n",
       "      <td>Eletrônicos</td>\n",
       "      <td>1</td>\n",
       "    </tr>\n",
       "    <tr>\n",
       "      <th>1</th>\n",
       "      <td>1002</td>\n",
       "      <td>2024-03-02</td>\n",
       "      <td>502</td>\n",
       "      <td>200.50</td>\n",
       "      <td>Roupas</td>\n",
       "      <td>3</td>\n",
       "    </tr>\n",
       "    <tr>\n",
       "      <th>2</th>\n",
       "      <td>1003</td>\n",
       "      <td>2024-03-03</td>\n",
       "      <td>503</td>\n",
       "      <td>320.00</td>\n",
       "      <td>Casa</td>\n",
       "      <td>2</td>\n",
       "    </tr>\n",
       "    <tr>\n",
       "      <th>3</th>\n",
       "      <td>1004</td>\n",
       "      <td>2024-03-04</td>\n",
       "      <td>501</td>\n",
       "      <td>90.25</td>\n",
       "      <td>Eletrônicos</td>\n",
       "      <td>1</td>\n",
       "    </tr>\n",
       "    <tr>\n",
       "      <th>4</th>\n",
       "      <td>1005</td>\n",
       "      <td>2024-03-05</td>\n",
       "      <td>504</td>\n",
       "      <td>450.60</td>\n",
       "      <td>Esportes</td>\n",
       "      <td>4</td>\n",
       "    </tr>\n",
       "  </tbody>\n",
       "</table>\n",
       "</div>"
      ],
      "text/plain": [
       "   ID_Pedido Data_Compra  Cliente_ID  Valor_Total Categoria_Produto  \\\n",
       "0       1001  2024-03-01         501       150.75       Eletrônicos   \n",
       "1       1002  2024-03-02         502       200.50            Roupas   \n",
       "2       1003  2024-03-03         503       320.00              Casa   \n",
       "3       1004  2024-03-04         501        90.25       Eletrônicos   \n",
       "4       1005  2024-03-05         504       450.60          Esportes   \n",
       "\n",
       "   Quantidade  \n",
       "0           1  \n",
       "1           3  \n",
       "2           2  \n",
       "3           1  \n",
       "4           4  "
      ]
     },
     "execution_count": 58,
     "metadata": {},
     "output_type": "execute_result"
    }
   ],
   "source": [
    "dados"
   ]
  },
  {
   "cell_type": "markdown",
   "id": "86ab0373-c04e-47b3-9b16-587116e7604e",
   "metadata": {},
   "source": [
    "# Analise Exploratoria\n",
    "\n",
    "Trata-se do reconhecimento inicial dos dados presentes no dataset. "
   ]
  },
  {
   "cell_type": "code",
   "execution_count": null,
   "id": "1d012f0f-d256-4db7-9dc1-da491920399e",
   "metadata": {},
   "outputs": [
    {
     "data": {
      "text/html": [
       "<div>\n",
       "<style scoped>\n",
       "    .dataframe tbody tr th:only-of-type {\n",
       "        vertical-align: middle;\n",
       "    }\n",
       "\n",
       "    .dataframe tbody tr th {\n",
       "        vertical-align: top;\n",
       "    }\n",
       "\n",
       "    .dataframe thead th {\n",
       "        text-align: right;\n",
       "    }\n",
       "</style>\n",
       "<table border=\"1\" class=\"dataframe\">\n",
       "  <thead>\n",
       "    <tr style=\"text-align: right;\">\n",
       "      <th></th>\n",
       "      <th>ID_Pedido</th>\n",
       "      <th>Data_Compra</th>\n",
       "      <th>Cliente_ID</th>\n",
       "      <th>Valor_Total</th>\n",
       "      <th>Categoria_Produto</th>\n",
       "      <th>Quantidade</th>\n",
       "    </tr>\n",
       "  </thead>\n",
       "  <tbody>\n",
       "    <tr>\n",
       "      <th>0</th>\n",
       "      <td>1001</td>\n",
       "      <td>2024-03-01</td>\n",
       "      <td>501</td>\n",
       "      <td>150.75</td>\n",
       "      <td>Eletrônicos</td>\n",
       "      <td>1</td>\n",
       "    </tr>\n",
       "    <tr>\n",
       "      <th>1</th>\n",
       "      <td>1002</td>\n",
       "      <td>2024-03-02</td>\n",
       "      <td>502</td>\n",
       "      <td>200.50</td>\n",
       "      <td>Roupas</td>\n",
       "      <td>3</td>\n",
       "    </tr>\n",
       "    <tr>\n",
       "      <th>2</th>\n",
       "      <td>1003</td>\n",
       "      <td>2024-03-03</td>\n",
       "      <td>503</td>\n",
       "      <td>320.00</td>\n",
       "      <td>Casa</td>\n",
       "      <td>2</td>\n",
       "    </tr>\n",
       "    <tr>\n",
       "      <th>3</th>\n",
       "      <td>1004</td>\n",
       "      <td>2024-03-04</td>\n",
       "      <td>501</td>\n",
       "      <td>90.25</td>\n",
       "      <td>Eletrônicos</td>\n",
       "      <td>1</td>\n",
       "    </tr>\n",
       "    <tr>\n",
       "      <th>4</th>\n",
       "      <td>1005</td>\n",
       "      <td>2024-03-05</td>\n",
       "      <td>504</td>\n",
       "      <td>450.60</td>\n",
       "      <td>Esportes</td>\n",
       "      <td>4</td>\n",
       "    </tr>\n",
       "  </tbody>\n",
       "</table>\n",
       "</div>"
      ],
      "text/plain": [
       "   ID_Pedido Data_Compra  Cliente_ID  Valor_Total Categoria_Produto  \\\n",
       "0       1001  2024-03-01         501       150.75       Eletrônicos   \n",
       "1       1002  2024-03-02         502       200.50            Roupas   \n",
       "2       1003  2024-03-03         503       320.00              Casa   \n",
       "3       1004  2024-03-04         501        90.25       Eletrônicos   \n",
       "4       1005  2024-03-05         504       450.60          Esportes   \n",
       "\n",
       "   Quantidade  \n",
       "0           1  \n",
       "1           3  \n",
       "2           2  \n",
       "3           1  \n",
       "4           4  "
      ]
     },
     "execution_count": 59,
     "metadata": {},
     "output_type": "execute_result"
    }
   ],
   "source": [
    "# Visualizar as linhas iniciais do dataset\n",
    "\n",
    "dados.head()"
   ]
  },
  {
   "cell_type": "code",
   "execution_count": null,
   "id": "13c4f0df-01aa-47b2-be6b-aa3791be8458",
   "metadata": {},
   "outputs": [
    {
     "data": {
      "text/html": [
       "<div>\n",
       "<style scoped>\n",
       "    .dataframe tbody tr th:only-of-type {\n",
       "        vertical-align: middle;\n",
       "    }\n",
       "\n",
       "    .dataframe tbody tr th {\n",
       "        vertical-align: top;\n",
       "    }\n",
       "\n",
       "    .dataframe thead th {\n",
       "        text-align: right;\n",
       "    }\n",
       "</style>\n",
       "<table border=\"1\" class=\"dataframe\">\n",
       "  <thead>\n",
       "    <tr style=\"text-align: right;\">\n",
       "      <th></th>\n",
       "      <th>ID_Pedido</th>\n",
       "      <th>Data_Compra</th>\n",
       "      <th>Cliente_ID</th>\n",
       "      <th>Valor_Total</th>\n",
       "      <th>Categoria_Produto</th>\n",
       "      <th>Quantidade</th>\n",
       "    </tr>\n",
       "  </thead>\n",
       "  <tbody>\n",
       "    <tr>\n",
       "      <th>0</th>\n",
       "      <td>1001</td>\n",
       "      <td>2024-03-01</td>\n",
       "      <td>501</td>\n",
       "      <td>150.75</td>\n",
       "      <td>Eletrônicos</td>\n",
       "      <td>1</td>\n",
       "    </tr>\n",
       "    <tr>\n",
       "      <th>1</th>\n",
       "      <td>1002</td>\n",
       "      <td>2024-03-02</td>\n",
       "      <td>502</td>\n",
       "      <td>200.50</td>\n",
       "      <td>Roupas</td>\n",
       "      <td>3</td>\n",
       "    </tr>\n",
       "    <tr>\n",
       "      <th>2</th>\n",
       "      <td>1003</td>\n",
       "      <td>2024-03-03</td>\n",
       "      <td>503</td>\n",
       "      <td>320.00</td>\n",
       "      <td>Casa</td>\n",
       "      <td>2</td>\n",
       "    </tr>\n",
       "    <tr>\n",
       "      <th>3</th>\n",
       "      <td>1004</td>\n",
       "      <td>2024-03-04</td>\n",
       "      <td>501</td>\n",
       "      <td>90.25</td>\n",
       "      <td>Eletrônicos</td>\n",
       "      <td>1</td>\n",
       "    </tr>\n",
       "    <tr>\n",
       "      <th>4</th>\n",
       "      <td>1005</td>\n",
       "      <td>2024-03-05</td>\n",
       "      <td>504</td>\n",
       "      <td>450.60</td>\n",
       "      <td>Esportes</td>\n",
       "      <td>4</td>\n",
       "    </tr>\n",
       "  </tbody>\n",
       "</table>\n",
       "</div>"
      ],
      "text/plain": [
       "   ID_Pedido Data_Compra  Cliente_ID  Valor_Total Categoria_Produto  \\\n",
       "0       1001  2024-03-01         501       150.75       Eletrônicos   \n",
       "1       1002  2024-03-02         502       200.50            Roupas   \n",
       "2       1003  2024-03-03         503       320.00              Casa   \n",
       "3       1004  2024-03-04         501        90.25       Eletrônicos   \n",
       "4       1005  2024-03-05         504       450.60          Esportes   \n",
       "\n",
       "   Quantidade  \n",
       "0           1  \n",
       "1           3  \n",
       "2           2  \n",
       "3           1  \n",
       "4           4  "
      ]
     },
     "execution_count": 60,
     "metadata": {},
     "output_type": "execute_result"
    }
   ],
   "source": [
    "# Verificar as linhas finais do dataset\n",
    "\n",
    "dados.tail()"
   ]
  },
  {
   "cell_type": "code",
   "execution_count": null,
   "id": "af025c7b-23f8-471d-a672-f9bde5c667c0",
   "metadata": {},
   "outputs": [
    {
     "data": {
      "text/plain": [
       "(5, 6)"
      ]
     },
     "execution_count": 61,
     "metadata": {},
     "output_type": "execute_result"
    }
   ],
   "source": [
    "# Mostra a quantidade de linhas e a quantidade de series(colunas)\n",
    "\n",
    "dados.shape"
   ]
  },
  {
   "cell_type": "code",
   "execution_count": null,
   "id": "4ca53917-693b-4a12-bdfa-fbaf1e772b8b",
   "metadata": {},
   "outputs": [
    {
     "data": {
      "text/html": [
       "<div>\n",
       "<style scoped>\n",
       "    .dataframe tbody tr th:only-of-type {\n",
       "        vertical-align: middle;\n",
       "    }\n",
       "\n",
       "    .dataframe tbody tr th {\n",
       "        vertical-align: top;\n",
       "    }\n",
       "\n",
       "    .dataframe thead th {\n",
       "        text-align: right;\n",
       "    }\n",
       "</style>\n",
       "<table border=\"1\" class=\"dataframe\">\n",
       "  <thead>\n",
       "    <tr style=\"text-align: right;\">\n",
       "      <th></th>\n",
       "      <th>ID_Pedido</th>\n",
       "      <th>Cliente_ID</th>\n",
       "      <th>Valor_Total</th>\n",
       "      <th>Quantidade</th>\n",
       "    </tr>\n",
       "  </thead>\n",
       "  <tbody>\n",
       "    <tr>\n",
       "      <th>count</th>\n",
       "      <td>5.000000</td>\n",
       "      <td>5.00000</td>\n",
       "      <td>5.000000</td>\n",
       "      <td>5.00000</td>\n",
       "    </tr>\n",
       "    <tr>\n",
       "      <th>mean</th>\n",
       "      <td>1003.000000</td>\n",
       "      <td>502.20000</td>\n",
       "      <td>242.420000</td>\n",
       "      <td>2.20000</td>\n",
       "    </tr>\n",
       "    <tr>\n",
       "      <th>std</th>\n",
       "      <td>1.581139</td>\n",
       "      <td>1.30384</td>\n",
       "      <td>143.765393</td>\n",
       "      <td>1.30384</td>\n",
       "    </tr>\n",
       "    <tr>\n",
       "      <th>min</th>\n",
       "      <td>1001.000000</td>\n",
       "      <td>501.00000</td>\n",
       "      <td>90.250000</td>\n",
       "      <td>1.00000</td>\n",
       "    </tr>\n",
       "    <tr>\n",
       "      <th>25%</th>\n",
       "      <td>1002.000000</td>\n",
       "      <td>501.00000</td>\n",
       "      <td>150.750000</td>\n",
       "      <td>1.00000</td>\n",
       "    </tr>\n",
       "    <tr>\n",
       "      <th>50%</th>\n",
       "      <td>1003.000000</td>\n",
       "      <td>502.00000</td>\n",
       "      <td>200.500000</td>\n",
       "      <td>2.00000</td>\n",
       "    </tr>\n",
       "    <tr>\n",
       "      <th>75%</th>\n",
       "      <td>1004.000000</td>\n",
       "      <td>503.00000</td>\n",
       "      <td>320.000000</td>\n",
       "      <td>3.00000</td>\n",
       "    </tr>\n",
       "    <tr>\n",
       "      <th>max</th>\n",
       "      <td>1005.000000</td>\n",
       "      <td>504.00000</td>\n",
       "      <td>450.600000</td>\n",
       "      <td>4.00000</td>\n",
       "    </tr>\n",
       "  </tbody>\n",
       "</table>\n",
       "</div>"
      ],
      "text/plain": [
       "         ID_Pedido  Cliente_ID  Valor_Total  Quantidade\n",
       "count     5.000000     5.00000     5.000000     5.00000\n",
       "mean   1003.000000   502.20000   242.420000     2.20000\n",
       "std       1.581139     1.30384   143.765393     1.30384\n",
       "min    1001.000000   501.00000    90.250000     1.00000\n",
       "25%    1002.000000   501.00000   150.750000     1.00000\n",
       "50%    1003.000000   502.00000   200.500000     2.00000\n",
       "75%    1004.000000   503.00000   320.000000     3.00000\n",
       "max    1005.000000   504.00000   450.600000     4.00000"
      ]
     },
     "execution_count": 62,
     "metadata": {},
     "output_type": "execute_result"
    }
   ],
   "source": [
    "dados.describe()"
   ]
  },
  {
   "cell_type": "code",
   "execution_count": null,
   "id": "2b7780cc-4284-4a2b-a4b9-757b8bec4fe6",
   "metadata": {},
   "outputs": [
    {
     "name": "stdout",
     "output_type": "stream",
     "text": [
      "Variancia:20668.488250000002\n",
      "Mediana:200.5\n"
     ]
    }
   ],
   "source": [
    "variancia = dados['Valor_Total'].var()\n",
    "mediana = dados ['Valor_Total'].median()\n",
    "\n",
    "print(f'Variancia:{variancia}')\n",
    "print(f'Mediana:{mediana}')"
   ]
  },
  {
   "cell_type": "code",
   "execution_count": null,
   "id": "d44b8791-4e50-45b5-9c45-27e77d873fa1",
   "metadata": {},
   "outputs": [
    {
     "name": "stdout",
     "output_type": "stream",
     "text": [
      "<class 'pandas.core.frame.DataFrame'>\n",
      "RangeIndex: 5 entries, 0 to 4\n",
      "Data columns (total 6 columns):\n",
      " #   Column             Non-Null Count  Dtype  \n",
      "---  ------             --------------  -----  \n",
      " 0   ID_Pedido          5 non-null      int64  \n",
      " 1   Data_Compra        5 non-null      object \n",
      " 2   Cliente_ID         5 non-null      int64  \n",
      " 3   Valor_Total        5 non-null      float64\n",
      " 4   Categoria_Produto  5 non-null      object \n",
      " 5   Quantidade         5 non-null      int64  \n",
      "dtypes: float64(1), int64(3), object(2)\n",
      "memory usage: 372.0+ bytes\n"
     ]
    }
   ],
   "source": [
    "dados.info()"
   ]
  },
  {
   "cell_type": "code",
   "execution_count": null,
   "id": "614890fb-e58d-411e-9801-ee17201f82d1",
   "metadata": {},
   "outputs": [
    {
     "data": {
      "text/plain": [
       "array(['Eletrônicos', 'Roupas', 'Casa', 'Esportes'], dtype=object)"
      ]
     },
     "execution_count": 65,
     "metadata": {},
     "output_type": "execute_result"
    }
   ],
   "source": [
    "dados['Categoria_Produto'].unique()"
   ]
  },
  {
   "cell_type": "code",
   "execution_count": null,
   "id": "be0006f6-48a2-4e8b-a35b-7acea85a7933",
   "metadata": {},
   "outputs": [
    {
     "data": {
      "text/plain": [
       "Categoria_Produto\n",
       "Eletrônicos    2\n",
       "Roupas         1\n",
       "Casa           1\n",
       "Esportes       1\n",
       "Name: count, dtype: int64"
      ]
     },
     "execution_count": 69,
     "metadata": {},
     "output_type": "execute_result"
    }
   ],
   "source": [
    "dados['Categoria_Produto'].value_counts()"
   ]
  },
  {
   "cell_type": "code",
   "execution_count": null,
   "id": "5693a83d-86f3-4836-b4bd-b72476f31430",
   "metadata": {},
   "outputs": [
    {
     "data": {
      "text/plain": [
       "Index(['ID_Pedido', 'Data_Compra', 'Cliente_ID', 'Valor_Total',\n",
       "       'Categoria_Produto', 'Quantidade'],\n",
       "      dtype='object')"
      ]
     },
     "execution_count": 71,
     "metadata": {},
     "output_type": "execute_result"
    }
   ],
   "source": [
    "# Visualizar nomes das colunas\n",
    "dados.columns"
   ]
  },
  {
   "cell_type": "code",
   "execution_count": null,
   "id": "19ec4e4f-2cfd-4dee-a972-7dd1dd0a514b",
   "metadata": {},
   "outputs": [
    {
     "data": {
      "text/html": [
       "<div>\n",
       "<style scoped>\n",
       "    .dataframe tbody tr th:only-of-type {\n",
       "        vertical-align: middle;\n",
       "    }\n",
       "\n",
       "    .dataframe tbody tr th {\n",
       "        vertical-align: top;\n",
       "    }\n",
       "\n",
       "    .dataframe thead th {\n",
       "        text-align: right;\n",
       "    }\n",
       "</style>\n",
       "<table border=\"1\" class=\"dataframe\">\n",
       "  <thead>\n",
       "    <tr style=\"text-align: right;\">\n",
       "      <th></th>\n",
       "      <th>ID_Pedido</th>\n",
       "      <th>dt_compra</th>\n",
       "      <th>Cliente_ID</th>\n",
       "      <th>Valor_Total</th>\n",
       "      <th>categoria</th>\n",
       "      <th>Quantidade</th>\n",
       "    </tr>\n",
       "  </thead>\n",
       "  <tbody>\n",
       "    <tr>\n",
       "      <th>0</th>\n",
       "      <td>1001</td>\n",
       "      <td>2024-03-01</td>\n",
       "      <td>501</td>\n",
       "      <td>150.75</td>\n",
       "      <td>Eletrônicos</td>\n",
       "      <td>1</td>\n",
       "    </tr>\n",
       "    <tr>\n",
       "      <th>1</th>\n",
       "      <td>1002</td>\n",
       "      <td>2024-03-02</td>\n",
       "      <td>502</td>\n",
       "      <td>200.50</td>\n",
       "      <td>Roupas</td>\n",
       "      <td>3</td>\n",
       "    </tr>\n",
       "    <tr>\n",
       "      <th>2</th>\n",
       "      <td>1003</td>\n",
       "      <td>2024-03-03</td>\n",
       "      <td>503</td>\n",
       "      <td>320.00</td>\n",
       "      <td>Casa</td>\n",
       "      <td>2</td>\n",
       "    </tr>\n",
       "    <tr>\n",
       "      <th>3</th>\n",
       "      <td>1004</td>\n",
       "      <td>2024-03-04</td>\n",
       "      <td>501</td>\n",
       "      <td>90.25</td>\n",
       "      <td>Eletrônicos</td>\n",
       "      <td>1</td>\n",
       "    </tr>\n",
       "    <tr>\n",
       "      <th>4</th>\n",
       "      <td>1005</td>\n",
       "      <td>2024-03-05</td>\n",
       "      <td>504</td>\n",
       "      <td>450.60</td>\n",
       "      <td>Esportes</td>\n",
       "      <td>4</td>\n",
       "    </tr>\n",
       "  </tbody>\n",
       "</table>\n",
       "</div>"
      ],
      "text/plain": [
       "   ID_Pedido   dt_compra  Cliente_ID  Valor_Total    categoria  Quantidade\n",
       "0       1001  2024-03-01         501       150.75  Eletrônicos           1\n",
       "1       1002  2024-03-02         502       200.50       Roupas           3\n",
       "2       1003  2024-03-03         503       320.00         Casa           2\n",
       "3       1004  2024-03-04         501        90.25  Eletrônicos           1\n",
       "4       1005  2024-03-05         504       450.60     Esportes           4"
      ]
     },
     "execution_count": 72,
     "metadata": {},
     "output_type": "execute_result"
    }
   ],
   "source": [
    "dados.rename(columns={'Data_Compra':'dt_compra',\n",
    "                      'Categoria_Produto':'categoria'\n",
    "                     })"
   ]
  },
  {
   "cell_type": "code",
   "execution_count": null,
   "id": "15d2afdc-a0b4-461a-9615-c0b0ec8e5680",
   "metadata": {},
   "outputs": [
    {
     "data": {
      "text/html": [
       "<div>\n",
       "<style scoped>\n",
       "    .dataframe tbody tr th:only-of-type {\n",
       "        vertical-align: middle;\n",
       "    }\n",
       "\n",
       "    .dataframe tbody tr th {\n",
       "        vertical-align: top;\n",
       "    }\n",
       "\n",
       "    .dataframe thead th {\n",
       "        text-align: right;\n",
       "    }\n",
       "</style>\n",
       "<table border=\"1\" class=\"dataframe\">\n",
       "  <thead>\n",
       "    <tr style=\"text-align: right;\">\n",
       "      <th></th>\n",
       "      <th>pedido</th>\n",
       "      <th>data</th>\n",
       "      <th>cliente</th>\n",
       "      <th>valor</th>\n",
       "      <th>categoria</th>\n",
       "      <th>qtd</th>\n",
       "    </tr>\n",
       "  </thead>\n",
       "  <tbody>\n",
       "    <tr>\n",
       "      <th>0</th>\n",
       "      <td>1001</td>\n",
       "      <td>2024-03-01</td>\n",
       "      <td>501</td>\n",
       "      <td>150.75</td>\n",
       "      <td>Eletrônicos</td>\n",
       "      <td>1</td>\n",
       "    </tr>\n",
       "    <tr>\n",
       "      <th>1</th>\n",
       "      <td>1002</td>\n",
       "      <td>2024-03-02</td>\n",
       "      <td>502</td>\n",
       "      <td>200.50</td>\n",
       "      <td>Roupas</td>\n",
       "      <td>3</td>\n",
       "    </tr>\n",
       "    <tr>\n",
       "      <th>2</th>\n",
       "      <td>1003</td>\n",
       "      <td>2024-03-03</td>\n",
       "      <td>503</td>\n",
       "      <td>320.00</td>\n",
       "      <td>Casa</td>\n",
       "      <td>2</td>\n",
       "    </tr>\n",
       "    <tr>\n",
       "      <th>3</th>\n",
       "      <td>1004</td>\n",
       "      <td>2024-03-04</td>\n",
       "      <td>501</td>\n",
       "      <td>90.25</td>\n",
       "      <td>Eletrônicos</td>\n",
       "      <td>1</td>\n",
       "    </tr>\n",
       "    <tr>\n",
       "      <th>4</th>\n",
       "      <td>1005</td>\n",
       "      <td>2024-03-05</td>\n",
       "      <td>504</td>\n",
       "      <td>450.60</td>\n",
       "      <td>Esportes</td>\n",
       "      <td>4</td>\n",
       "    </tr>\n",
       "  </tbody>\n",
       "</table>\n",
       "</div>"
      ],
      "text/plain": [
       "   pedido        data  cliente   valor    categoria  qtd\n",
       "0    1001  2024-03-01      501  150.75  Eletrônicos    1\n",
       "1    1002  2024-03-02      502  200.50       Roupas    3\n",
       "2    1003  2024-03-03      503  320.00         Casa    2\n",
       "3    1004  2024-03-04      501   90.25  Eletrônicos    1\n",
       "4    1005  2024-03-05      504  450.60     Esportes    4"
      ]
     },
     "execution_count": 74,
     "metadata": {},
     "output_type": "execute_result"
    }
   ],
   "source": [
    "colunas = ['pedido','data','cliente','valor','categoria','qtd']\n",
    "\n",
    "dados.columns = colunas\n",
    "\n",
    "dados"
   ]
  },
  {
   "cell_type": "code",
   "execution_count": null,
   "id": "c6b8c612-e793-4773-af68-1e885c28de75",
   "metadata": {},
   "outputs": [
    {
     "data": {
      "text/html": [
       "<div>\n",
       "<style scoped>\n",
       "    .dataframe tbody tr th:only-of-type {\n",
       "        vertical-align: middle;\n",
       "    }\n",
       "\n",
       "    .dataframe tbody tr th {\n",
       "        vertical-align: top;\n",
       "    }\n",
       "\n",
       "    .dataframe thead th {\n",
       "        text-align: right;\n",
       "    }\n",
       "</style>\n",
       "<table border=\"1\" class=\"dataframe\">\n",
       "  <thead>\n",
       "    <tr style=\"text-align: right;\">\n",
       "      <th></th>\n",
       "      <th>PEDIDO</th>\n",
       "      <th>DATA</th>\n",
       "      <th>CLIENTE</th>\n",
       "      <th>VALOR</th>\n",
       "      <th>CATEGORIA</th>\n",
       "      <th>QTD</th>\n",
       "    </tr>\n",
       "  </thead>\n",
       "  <tbody>\n",
       "    <tr>\n",
       "      <th>0</th>\n",
       "      <td>1001</td>\n",
       "      <td>2024-03-01</td>\n",
       "      <td>501</td>\n",
       "      <td>150.75</td>\n",
       "      <td>Eletrônicos</td>\n",
       "      <td>1</td>\n",
       "    </tr>\n",
       "    <tr>\n",
       "      <th>1</th>\n",
       "      <td>1002</td>\n",
       "      <td>2024-03-02</td>\n",
       "      <td>502</td>\n",
       "      <td>200.50</td>\n",
       "      <td>Roupas</td>\n",
       "      <td>3</td>\n",
       "    </tr>\n",
       "    <tr>\n",
       "      <th>2</th>\n",
       "      <td>1003</td>\n",
       "      <td>2024-03-03</td>\n",
       "      <td>503</td>\n",
       "      <td>320.00</td>\n",
       "      <td>Casa</td>\n",
       "      <td>2</td>\n",
       "    </tr>\n",
       "    <tr>\n",
       "      <th>3</th>\n",
       "      <td>1004</td>\n",
       "      <td>2024-03-04</td>\n",
       "      <td>501</td>\n",
       "      <td>90.25</td>\n",
       "      <td>Eletrônicos</td>\n",
       "      <td>1</td>\n",
       "    </tr>\n",
       "    <tr>\n",
       "      <th>4</th>\n",
       "      <td>1005</td>\n",
       "      <td>2024-03-05</td>\n",
       "      <td>504</td>\n",
       "      <td>450.60</td>\n",
       "      <td>Esportes</td>\n",
       "      <td>4</td>\n",
       "    </tr>\n",
       "  </tbody>\n",
       "</table>\n",
       "</div>"
      ],
      "text/plain": [
       "   PEDIDO        DATA  CLIENTE   VALOR    CATEGORIA  QTD\n",
       "0    1001  2024-03-01      501  150.75  Eletrônicos    1\n",
       "1    1002  2024-03-02      502  200.50       Roupas    3\n",
       "2    1003  2024-03-03      503  320.00         Casa    2\n",
       "3    1004  2024-03-04      501   90.25  Eletrônicos    1\n",
       "4    1005  2024-03-05      504  450.60     Esportes    4"
      ]
     },
     "execution_count": 81,
     "metadata": {},
     "output_type": "execute_result"
    }
   ],
   "source": [
    "colunas_maiusculas = []\n",
    "\n",
    "for coluna in list(dados.columns):\n",
    "    colunas_maiusculas.append(coluna.upper())\n",
    "\n",
    "dados.columns = colunas_maiusculas\n",
    "\n",
    "dados"
   ]
  },
  {
   "cell_type": "code",
   "execution_count": null,
   "id": "2e18c172-e8a2-48b3-b409-ee973f8f2ef7",
   "metadata": {},
   "outputs": [],
   "source": []
  }
 ],
 "metadata": {
  "kernelspec": {
   "display_name": ".venv",
   "language": "python",
   "name": "python3"
  },
  "language_info": {
   "codemirror_mode": {
    "name": "ipython",
    "version": 3
   },
   "file_extension": ".py",
   "mimetype": "text/x-python",
   "name": "python",
   "nbconvert_exporter": "python",
   "pygments_lexer": "ipython3",
   "version": "3.12.10"
  }
 },
 "nbformat": 4,
 "nbformat_minor": 5
}
