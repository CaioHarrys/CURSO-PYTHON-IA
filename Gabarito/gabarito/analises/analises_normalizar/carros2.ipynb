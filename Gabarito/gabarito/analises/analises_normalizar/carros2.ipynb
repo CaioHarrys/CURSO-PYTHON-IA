{
 "cells": [
  {
   "cell_type": "markdown",
   "id": "4e5e2fcf",
   "metadata": {},
   "source": [
    " # Trantando dados string para ML\n",
    "\n",
    "    Usaremos duas tecnicas para isso\n",
    "\n",
    "- dummys\n",
    "- one hot encoding\n",
    "        "
   ]
  },
  {
   "cell_type": "code",
   "execution_count": null,
   "id": "5f6ee806",
   "metadata": {},
   "outputs": [],
   "source": [
    "! pip install pandas -q\n",
    "\n",
    "# para leitura de arquivos xlsx\n",
    "\n",
    "! pip install openpyxl -q\n",
    "! pip install sklearn -q"
   ]
  },
  {
   "cell_type": "code",
   "execution_count": 2,
   "id": "fe4c1e18",
   "metadata": {},
   "outputs": [],
   "source": [
    "import pandas as pd\n",
    "\n",
    "pd.set_option('display.max_columns', None)  # Caso nao esteja utilizando o vs code, para aparecer a barra horizontal\n",
    "pd.set_option('display.max_rows', None) # Caso nao esteja utilizando o vs code, para aparecer a barra Vertical\n",
    "\n",
    "df = pd.read_excel('./dados.xlsx')\n"
   ]
  },
  {
   "cell_type": "code",
   "execution_count": 4,
   "id": "ef66f80b",
   "metadata": {},
   "outputs": [
    {
     "data": {
      "text/plain": [
       "(986, 7)"
      ]
     },
     "execution_count": 4,
     "metadata": {},
     "output_type": "execute_result"
    }
   ],
   "source": [
    "df.shape"
   ]
  },
  {
   "cell_type": "code",
   "execution_count": 3,
   "id": "a7ef0858",
   "metadata": {},
   "outputs": [
    {
     "data": {
      "application/vnd.microsoft.datawrangler.viewer.v0+json": {
       "columns": [
        {
         "name": "index",
         "rawType": "int64",
         "type": "integer"
        },
        {
         "name": "MODELO",
         "rawType": "object",
         "type": "string"
        },
        {
         "name": "KM-LITRO",
         "rawType": "float64",
         "type": "float"
        },
        {
         "name": "CILINDROS",
         "rawType": "int64",
         "type": "integer"
        },
        {
         "name": "PESO(KG)",
         "rawType": "int64",
         "type": "integer"
        },
        {
         "name": "CAVALOS",
         "rawType": "int64",
         "type": "integer"
        },
        {
         "name": "TRANSMISSAO",
         "rawType": "object",
         "type": "string"
        },
        {
         "name": "PAIS",
         "rawType": "object",
         "type": "string"
        }
       ],
       "conversionMethod": "pd.DataFrame",
       "ref": "373a4ae4-268b-44d9-9f00-04e8644000c1",
       "rows": [
        [
         "0",
         "LABORGUINI",
         "3.0",
         "12",
         "1200",
         "700",
         "AUTOMATICO",
         "BRASIL"
        ],
        [
         "1",
         "LABORGUINI",
         "3.0",
         "12",
         "1200",
         "700",
         "AUTOMATICO",
         "EUA"
        ],
        [
         "2",
         "LABORGUINI",
         "3.0",
         "12",
         "1200",
         "700",
         "AUTOMATICO",
         "ESPANHA"
        ],
        [
         "3",
         "FERRARI",
         "3.0",
         "12",
         "1400",
         "640",
         "AUTOMATICO",
         "CANADA"
        ],
        [
         "4",
         "ASTON MARTIN",
         "3.5",
         "10",
         "1600",
         "620",
         "AUTOMATICO",
         "INGLATERRA"
        ]
       ],
       "shape": {
        "columns": 7,
        "rows": 5
       }
      },
      "text/html": [
       "<div>\n",
       "<style scoped>\n",
       "    .dataframe tbody tr th:only-of-type {\n",
       "        vertical-align: middle;\n",
       "    }\n",
       "\n",
       "    .dataframe tbody tr th {\n",
       "        vertical-align: top;\n",
       "    }\n",
       "\n",
       "    .dataframe thead th {\n",
       "        text-align: right;\n",
       "    }\n",
       "</style>\n",
       "<table border=\"1\" class=\"dataframe\">\n",
       "  <thead>\n",
       "    <tr style=\"text-align: right;\">\n",
       "      <th></th>\n",
       "      <th>MODELO</th>\n",
       "      <th>KM-LITRO</th>\n",
       "      <th>CILINDROS</th>\n",
       "      <th>PESO(KG)</th>\n",
       "      <th>CAVALOS</th>\n",
       "      <th>TRANSMISSAO</th>\n",
       "      <th>PAIS</th>\n",
       "    </tr>\n",
       "  </thead>\n",
       "  <tbody>\n",
       "    <tr>\n",
       "      <th>0</th>\n",
       "      <td>LABORGUINI</td>\n",
       "      <td>3.0</td>\n",
       "      <td>12</td>\n",
       "      <td>1200</td>\n",
       "      <td>700</td>\n",
       "      <td>AUTOMATICO</td>\n",
       "      <td>BRASIL</td>\n",
       "    </tr>\n",
       "    <tr>\n",
       "      <th>1</th>\n",
       "      <td>LABORGUINI</td>\n",
       "      <td>3.0</td>\n",
       "      <td>12</td>\n",
       "      <td>1200</td>\n",
       "      <td>700</td>\n",
       "      <td>AUTOMATICO</td>\n",
       "      <td>EUA</td>\n",
       "    </tr>\n",
       "    <tr>\n",
       "      <th>2</th>\n",
       "      <td>LABORGUINI</td>\n",
       "      <td>3.0</td>\n",
       "      <td>12</td>\n",
       "      <td>1200</td>\n",
       "      <td>700</td>\n",
       "      <td>AUTOMATICO</td>\n",
       "      <td>ESPANHA</td>\n",
       "    </tr>\n",
       "    <tr>\n",
       "      <th>3</th>\n",
       "      <td>FERRARI</td>\n",
       "      <td>3.0</td>\n",
       "      <td>12</td>\n",
       "      <td>1400</td>\n",
       "      <td>640</td>\n",
       "      <td>AUTOMATICO</td>\n",
       "      <td>CANADA</td>\n",
       "    </tr>\n",
       "    <tr>\n",
       "      <th>4</th>\n",
       "      <td>ASTON MARTIN</td>\n",
       "      <td>3.5</td>\n",
       "      <td>10</td>\n",
       "      <td>1600</td>\n",
       "      <td>620</td>\n",
       "      <td>AUTOMATICO</td>\n",
       "      <td>INGLATERRA</td>\n",
       "    </tr>\n",
       "  </tbody>\n",
       "</table>\n",
       "</div>"
      ],
      "text/plain": [
       "         MODELO  KM-LITRO  CILINDROS  PESO(KG)  CAVALOS TRANSMISSAO  \\\n",
       "0    LABORGUINI       3.0         12      1200      700  AUTOMATICO   \n",
       "1    LABORGUINI       3.0         12      1200      700  AUTOMATICO   \n",
       "2    LABORGUINI       3.0         12      1200      700  AUTOMATICO   \n",
       "3       FERRARI       3.0         12      1400      640  AUTOMATICO   \n",
       "4  ASTON MARTIN       3.5         10      1600      620  AUTOMATICO   \n",
       "\n",
       "         PAIS  \n",
       "0      BRASIL  \n",
       "1         EUA  \n",
       "2     ESPANHA  \n",
       "3      CANADA  \n",
       "4  INGLATERRA  "
      ]
     },
     "execution_count": 3,
     "metadata": {},
     "output_type": "execute_result"
    }
   ],
   "source": [
    "df.head()"
   ]
  },
  {
   "cell_type": "code",
   "execution_count": 26,
   "id": "78b96c3d",
   "metadata": {},
   "outputs": [
    {
     "data": {
      "text/plain": [
       "PAIS\n",
       "3    99\n",
       "6    99\n",
       "5    99\n",
       "4    99\n",
       "8    99\n",
       "0    99\n",
       "1    98\n",
       "9    98\n",
       "2    98\n",
       "7    98\n",
       "Name: count, dtype: int64"
      ]
     },
     "execution_count": 26,
     "metadata": {},
     "output_type": "execute_result"
    }
   ],
   "source": [
    "df['PAIS'].value_counts()"
   ]
  },
  {
   "cell_type": "code",
   "execution_count": 5,
   "id": "f79ee2e6",
   "metadata": {},
   "outputs": [
    {
     "data": {
      "text/plain": [
       "TRANSMISSAO\n",
       "AUTOMATICO    536\n",
       "MANUAL        450\n",
       "dtype: int64"
      ]
     },
     "execution_count": 5,
     "metadata": {},
     "output_type": "execute_result"
    }
   ],
   "source": [
    "df.groupby('TRANSMISSAO').size()"
   ]
  },
  {
   "cell_type": "code",
   "execution_count": 6,
   "id": "a19f25a5",
   "metadata": {},
   "outputs": [
    {
     "data": {
      "text/plain": [
       "MODELO\n",
       "ASTON MARTIN     66\n",
       "BMW X1           30\n",
       "BMW X5           36\n",
       "COROLLA          36\n",
       "CORSA            42\n",
       "CRETA            36\n",
       "FERRARI          54\n",
       "GOL              24\n",
       "HB20             30\n",
       "HONDA FIT        66\n",
       "JEEP COMPASS     36\n",
       "JEEP RENEGADE    24\n",
       "LABORGUINI       50\n",
       "MERCEDES SL80    66\n",
       "MOBI             66\n",
       "PAJERO           36\n",
       "PALIO            66\n",
       "PARATI           24\n",
       "PASSAT           66\n",
       "SAVEIRO          42\n",
       "UNO              66\n",
       "VECTRA           24\n",
       "dtype: int64"
      ]
     },
     "execution_count": 6,
     "metadata": {},
     "output_type": "execute_result"
    }
   ],
   "source": [
    "df.groupby('MODELO').size()"
   ]
  },
  {
   "cell_type": "markdown",
   "id": "a1543781",
   "metadata": {},
   "source": [
    "# Metodo One Hot Encoding\n",
    "\n",
    "    Usaremos o scikit-learn para esta tecinca\n",
    "\n",
    "    ! pip install scikit-learn\n"
   ]
  },
  {
   "cell_type": "code",
   "execution_count": 7,
   "id": "11f1850d",
   "metadata": {},
   "outputs": [
    {
     "data": {
      "text/plain": [
       "(986, 7)"
      ]
     },
     "execution_count": 7,
     "metadata": {},
     "output_type": "execute_result"
    }
   ],
   "source": [
    "df = pd.read_excel('./dados.xlsx')\n",
    "\n",
    "df.shape"
   ]
  },
  {
   "cell_type": "code",
   "execution_count": 8,
   "id": "e3994a14",
   "metadata": {},
   "outputs": [
    {
     "name": "stdout",
     "output_type": "stream",
     "text": [
      "<class 'pandas.core.frame.DataFrame'>\n",
      "RangeIndex: 986 entries, 0 to 985\n",
      "Data columns (total 7 columns):\n",
      " #   Column       Non-Null Count  Dtype  \n",
      "---  ------       --------------  -----  \n",
      " 0   MODELO       986 non-null    object \n",
      " 1   KM-LITRO     984 non-null    float64\n",
      " 2   CILINDROS    986 non-null    int64  \n",
      " 3   PESO(KG)     986 non-null    int64  \n",
      " 4   CAVALOS      986 non-null    int64  \n",
      " 5   TRANSMISSAO  986 non-null    object \n",
      " 6   PAIS         986 non-null    object \n",
      "dtypes: float64(1), int64(3), object(3)\n",
      "memory usage: 54.0+ KB\n"
     ]
    }
   ],
   "source": [
    "df.info()"
   ]
  },
  {
   "cell_type": "code",
   "execution_count": 9,
   "id": "99df4236",
   "metadata": {},
   "outputs": [
    {
     "data": {
      "application/vnd.microsoft.datawrangler.viewer.v0+json": {
       "columns": [
        {
         "name": "index",
         "rawType": "int64",
         "type": "integer"
        },
        {
         "name": "MODELO",
         "rawType": "object",
         "type": "string"
        },
        {
         "name": "KM-LITRO",
         "rawType": "float64",
         "type": "float"
        },
        {
         "name": "CILINDROS",
         "rawType": "int64",
         "type": "integer"
        },
        {
         "name": "PESO(KG)",
         "rawType": "int64",
         "type": "integer"
        },
        {
         "name": "CAVALOS",
         "rawType": "int64",
         "type": "integer"
        },
        {
         "name": "TRANSMISSAO",
         "rawType": "object",
         "type": "string"
        },
        {
         "name": "PAIS",
         "rawType": "object",
         "type": "string"
        }
       ],
       "conversionMethod": "pd.DataFrame",
       "ref": "821e3cf7-0fd7-4de2-b7a1-a0065c627e0b",
       "rows": [
        [
         "0",
         "LABORGUINI",
         "3.0",
         "12",
         "1200",
         "700",
         "AUTOMATICO",
         "BRASIL"
        ],
        [
         "1",
         "LABORGUINI",
         "3.0",
         "12",
         "1200",
         "700",
         "AUTOMATICO",
         "EUA"
        ],
        [
         "2",
         "LABORGUINI",
         "3.0",
         "12",
         "1200",
         "700",
         "AUTOMATICO",
         "ESPANHA"
        ],
        [
         "3",
         "FERRARI",
         "3.0",
         "12",
         "1400",
         "640",
         "AUTOMATICO",
         "CANADA"
        ],
        [
         "4",
         "ASTON MARTIN",
         "3.5",
         "10",
         "1600",
         "620",
         "AUTOMATICO",
         "INGLATERRA"
        ]
       ],
       "shape": {
        "columns": 7,
        "rows": 5
       }
      },
      "text/html": [
       "<div>\n",
       "<style scoped>\n",
       "    .dataframe tbody tr th:only-of-type {\n",
       "        vertical-align: middle;\n",
       "    }\n",
       "\n",
       "    .dataframe tbody tr th {\n",
       "        vertical-align: top;\n",
       "    }\n",
       "\n",
       "    .dataframe thead th {\n",
       "        text-align: right;\n",
       "    }\n",
       "</style>\n",
       "<table border=\"1\" class=\"dataframe\">\n",
       "  <thead>\n",
       "    <tr style=\"text-align: right;\">\n",
       "      <th></th>\n",
       "      <th>MODELO</th>\n",
       "      <th>KM-LITRO</th>\n",
       "      <th>CILINDROS</th>\n",
       "      <th>PESO(KG)</th>\n",
       "      <th>CAVALOS</th>\n",
       "      <th>TRANSMISSAO</th>\n",
       "      <th>PAIS</th>\n",
       "    </tr>\n",
       "  </thead>\n",
       "  <tbody>\n",
       "    <tr>\n",
       "      <th>0</th>\n",
       "      <td>LABORGUINI</td>\n",
       "      <td>3.0</td>\n",
       "      <td>12</td>\n",
       "      <td>1200</td>\n",
       "      <td>700</td>\n",
       "      <td>AUTOMATICO</td>\n",
       "      <td>BRASIL</td>\n",
       "    </tr>\n",
       "    <tr>\n",
       "      <th>1</th>\n",
       "      <td>LABORGUINI</td>\n",
       "      <td>3.0</td>\n",
       "      <td>12</td>\n",
       "      <td>1200</td>\n",
       "      <td>700</td>\n",
       "      <td>AUTOMATICO</td>\n",
       "      <td>EUA</td>\n",
       "    </tr>\n",
       "    <tr>\n",
       "      <th>2</th>\n",
       "      <td>LABORGUINI</td>\n",
       "      <td>3.0</td>\n",
       "      <td>12</td>\n",
       "      <td>1200</td>\n",
       "      <td>700</td>\n",
       "      <td>AUTOMATICO</td>\n",
       "      <td>ESPANHA</td>\n",
       "    </tr>\n",
       "    <tr>\n",
       "      <th>3</th>\n",
       "      <td>FERRARI</td>\n",
       "      <td>3.0</td>\n",
       "      <td>12</td>\n",
       "      <td>1400</td>\n",
       "      <td>640</td>\n",
       "      <td>AUTOMATICO</td>\n",
       "      <td>CANADA</td>\n",
       "    </tr>\n",
       "    <tr>\n",
       "      <th>4</th>\n",
       "      <td>ASTON MARTIN</td>\n",
       "      <td>3.5</td>\n",
       "      <td>10</td>\n",
       "      <td>1600</td>\n",
       "      <td>620</td>\n",
       "      <td>AUTOMATICO</td>\n",
       "      <td>INGLATERRA</td>\n",
       "    </tr>\n",
       "  </tbody>\n",
       "</table>\n",
       "</div>"
      ],
      "text/plain": [
       "         MODELO  KM-LITRO  CILINDROS  PESO(KG)  CAVALOS TRANSMISSAO  \\\n",
       "0    LABORGUINI       3.0         12      1200      700  AUTOMATICO   \n",
       "1    LABORGUINI       3.0         12      1200      700  AUTOMATICO   \n",
       "2    LABORGUINI       3.0         12      1200      700  AUTOMATICO   \n",
       "3       FERRARI       3.0         12      1400      640  AUTOMATICO   \n",
       "4  ASTON MARTIN       3.5         10      1600      620  AUTOMATICO   \n",
       "\n",
       "         PAIS  \n",
       "0      BRASIL  \n",
       "1         EUA  \n",
       "2     ESPANHA  \n",
       "3      CANADA  \n",
       "4  INGLATERRA  "
      ]
     },
     "execution_count": 9,
     "metadata": {},
     "output_type": "execute_result"
    }
   ],
   "source": [
    "df.head()"
   ]
  },
  {
   "cell_type": "code",
   "execution_count": 10,
   "id": "0bd912ea",
   "metadata": {},
   "outputs": [],
   "source": [
    "from sklearn.preprocessing import LabelEncoder"
   ]
  },
  {
   "cell_type": "code",
   "execution_count": 11,
   "id": "e397876c",
   "metadata": {},
   "outputs": [],
   "source": [
    "enconder = LabelEncoder()\n",
    "\n",
    "for serie in ['PAIS','TRANSMISSAO','MODELO']:\n",
    "    df[serie] = enconder.fit_transform(df[serie])"
   ]
  },
  {
   "cell_type": "code",
   "execution_count": 12,
   "id": "54c2304f",
   "metadata": {},
   "outputs": [
    {
     "data": {
      "text/plain": [
       "(986, 7)"
      ]
     },
     "execution_count": 12,
     "metadata": {},
     "output_type": "execute_result"
    }
   ],
   "source": [
    "df.shape"
   ]
  },
  {
   "cell_type": "code",
   "execution_count": 27,
   "id": "bbfca479",
   "metadata": {},
   "outputs": [
    {
     "name": "stdout",
     "output_type": "stream",
     "text": [
      "<class 'pandas.core.frame.DataFrame'>\n",
      "RangeIndex: 986 entries, 0 to 985\n",
      "Data columns (total 7 columns):\n",
      " #   Column       Non-Null Count  Dtype  \n",
      "---  ------       --------------  -----  \n",
      " 0   MODELO       986 non-null    int64  \n",
      " 1   KM-LITRO     984 non-null    float64\n",
      " 2   CILINDROS    986 non-null    int64  \n",
      " 3   PESO(KG)     986 non-null    int64  \n",
      " 4   CAVALOS      986 non-null    int64  \n",
      " 5   TRANSMISSAO  986 non-null    int64  \n",
      " 6   PAIS         986 non-null    int64  \n",
      "dtypes: float64(1), int64(6)\n",
      "memory usage: 54.0 KB\n"
     ]
    }
   ],
   "source": [
    "df.info()"
   ]
  },
  {
   "cell_type": "code",
   "execution_count": 13,
   "id": "10305e56",
   "metadata": {},
   "outputs": [
    {
     "name": "stdout",
     "output_type": "stream",
     "text": [
      "\n",
      "Legenda para PAIS:\n",
      "ALEMANHA ; 0\n",
      "AUSTRALIA ; 1\n",
      "BELGICA ; 2\n",
      "BRASIL ; 3\n",
      "CANADA ; 4\n",
      "ESPANHA ; 5\n",
      "EUA ; 6\n",
      "HOLANDA ; 7\n",
      "INGLATERRA ; 8\n",
      "NORUEGA ; 9\n",
      "\n",
      "Legenda para TRANSMISSAO:\n",
      "AUTOMATICO ; 0\n",
      "MANUAL ; 1\n",
      "\n",
      "Legenda para MODELO:\n",
      "ASTON MARTIN ; 0\n",
      "BMW X1 ; 1\n",
      "BMW X5 ; 2\n",
      "COROLLA ; 3\n",
      "CORSA ; 4\n",
      "CRETA ; 5\n",
      "FERRARI ; 6\n",
      "GOL ; 7\n",
      "HB20 ; 8\n",
      "HONDA FIT ; 9\n",
      "JEEP COMPASS ; 10\n",
      "JEEP RENEGADE ; 11\n",
      "LABORGUINI ; 12\n",
      "MERCEDES SL80 ; 13\n",
      "MOBI ; 14\n",
      "PAJERO ; 15\n",
      "PALIO ; 16\n",
      "PARATI ; 17\n",
      "PASSAT ; 18\n",
      "SAVEIRO ; 19\n",
      "UNO ; 20\n",
      "VECTRA ; 21\n"
     ]
    }
   ],
   "source": [
    "df_dados = pd.read_excel('./dados.xlsx')\n",
    "\n",
    "legendas = {}\n",
    "\n",
    "for var in ['PAIS','TRANSMISSAO','MODELO']:\n",
    "    enconder = LabelEncoder()\n",
    "    \n",
    "    dados_originais = df_dados[var].copy()\n",
    "    \n",
    "    df_dados[var] = enconder.fit_transform(dados_originais)\n",
    "    \n",
    "    legendas_var = dict(zip(enconder.classes_, enconder.transform(enconder.classes_)))\n",
    "    legendas[var] = legendas_var\n",
    "\n",
    "for var, mapa in legendas.items():\n",
    "    print(f\"\\nLegenda para {var}:\")\n",
    "    for k, v in mapa.items():\n",
    "        print(f\"{k} ; {v}\")"
   ]
  },
  {
   "cell_type": "markdown",
   "id": "4bb72480",
   "metadata": {},
   "source": [
    "# Legenda para PAIS:\n",
    "\n",
    "ALEMANHA ; 0\n",
    "AUSTRALIA ; 1\n",
    "BELGICA ; 2\n",
    "BRASIL ; 3\n",
    "CANADA ; 4\n",
    "ESPANHA ; 5\n",
    "EUA ; 6\n",
    "HOLANDA ; 7\n",
    "INGLATERRA ; 8\n",
    "NORUEGA ; 9\n",
    "\n",
    "# Legenda para TRANSMISSAO:\n",
    "\n",
    "AUTOMATICO ; 0\n",
    "MANUAL ; 1\n",
    "\n",
    "# Legenda para MODELO:\n",
    "\n",
    "ASTON MARTIN ; 0\n",
    "BMW X1 ; 1\n",
    "BMW X5 ; 2\n",
    "COROLLA ; 3\n",
    "CORSA ; 4\n",
    "CRETA ; 5\n",
    "FERRARI ; 6\n",
    "GOL ; 7\n",
    "HB20 ; 8\n",
    "HONDA FIT ; 9\n",
    "JEEP COMPASS ; 10\n",
    "JEEP RENEGADE ; 11\n",
    "LABORGUINI ; 12\n",
    "MERCEDES SL80 ; 13\n",
    "MOBI ; 14\n",
    "PAJERO ; 15\n",
    "PALIO ; 16\n",
    "PARATI ; 17\n",
    "PASSAT ; 18\n",
    "SAVEIRO ; 19\n",
    "UNO ; 20\n",
    "VECTRA ; 21"
   ]
  },
  {
   "cell_type": "code",
   "execution_count": null,
   "id": "939138e9",
   "metadata": {},
   "outputs": [
    {
     "name": "stdout",
     "output_type": "stream",
     "text": [
      "\n",
      "Nome: luciano\n",
      "idade: 31\n",
      "altura: 1.75\n",
      "\n",
      "Nome: fernada\n",
      "idade: 18\n",
      "altura: 1.62\n"
     ]
    }
   ],
   "source": [
    "# Explicando o dicionario\n",
    "# dicionario = {chave: valor}\n",
    "\n",
    "pessoas = {\n",
    "    'luciano':{'idade':31, 'altura': 1.75},\n",
    "    'fernada':{'idade':18, 'altura': 1.62},\n",
    "}\n",
    "\n",
    "for nome, segundo_dic in pessoas.items():\n",
    "    print(f\"\\nNome: {nome}\")\n",
    "    for chave, valor in segundo_dic.items():\n",
    "        print(f\"{chave}: {valor}\")"
   ]
  },
  {
   "cell_type": "code",
   "execution_count": 14,
   "id": "56251fb3",
   "metadata": {},
   "outputs": [
    {
     "data": {
      "text/plain": [
       "(986, 7)"
      ]
     },
     "execution_count": 14,
     "metadata": {},
     "output_type": "execute_result"
    }
   ],
   "source": [
    "df.shape"
   ]
  },
  {
   "cell_type": "code",
   "execution_count": 15,
   "id": "accf0dba",
   "metadata": {},
   "outputs": [
    {
     "name": "stdout",
     "output_type": "stream",
     "text": [
      "<class 'pandas.core.frame.DataFrame'>\n",
      "RangeIndex: 986 entries, 0 to 985\n",
      "Data columns (total 7 columns):\n",
      " #   Column       Non-Null Count  Dtype  \n",
      "---  ------       --------------  -----  \n",
      " 0   MODELO       986 non-null    int64  \n",
      " 1   KM-LITRO     984 non-null    float64\n",
      " 2   CILINDROS    986 non-null    int64  \n",
      " 3   PESO(KG)     986 non-null    int64  \n",
      " 4   CAVALOS      986 non-null    int64  \n",
      " 5   TRANSMISSAO  986 non-null    int64  \n",
      " 6   PAIS         986 non-null    int64  \n",
      "dtypes: float64(1), int64(6)\n",
      "memory usage: 54.0 KB\n"
     ]
    }
   ],
   "source": [
    "df.info()"
   ]
  },
  {
   "cell_type": "code",
   "execution_count": 16,
   "id": "36643193",
   "metadata": {},
   "outputs": [
    {
     "data": {
      "application/vnd.microsoft.datawrangler.viewer.v0+json": {
       "columns": [
        {
         "name": "index",
         "rawType": "int64",
         "type": "integer"
        },
        {
         "name": "MODELO",
         "rawType": "int64",
         "type": "integer"
        },
        {
         "name": "KM-LITRO",
         "rawType": "float64",
         "type": "float"
        },
        {
         "name": "CILINDROS",
         "rawType": "int64",
         "type": "integer"
        },
        {
         "name": "PESO(KG)",
         "rawType": "int64",
         "type": "integer"
        },
        {
         "name": "CAVALOS",
         "rawType": "int64",
         "type": "integer"
        },
        {
         "name": "TRANSMISSAO",
         "rawType": "int64",
         "type": "integer"
        },
        {
         "name": "PAIS",
         "rawType": "int64",
         "type": "integer"
        }
       ],
       "conversionMethod": "pd.DataFrame",
       "ref": "7514a7ae-d2c2-4aff-98e3-c7dd7d07e0ba",
       "rows": [
        [
         "0",
         "12",
         "3.0",
         "12",
         "1200",
         "700",
         "0",
         "3"
        ],
        [
         "1",
         "12",
         "3.0",
         "12",
         "1200",
         "700",
         "0",
         "6"
        ],
        [
         "2",
         "12",
         "3.0",
         "12",
         "1200",
         "700",
         "0",
         "5"
        ],
        [
         "3",
         "6",
         "3.0",
         "12",
         "1400",
         "640",
         "0",
         "4"
        ],
        [
         "4",
         "0",
         "3.5",
         "10",
         "1600",
         "620",
         "0",
         "8"
        ]
       ],
       "shape": {
        "columns": 7,
        "rows": 5
       }
      },
      "text/html": [
       "<div>\n",
       "<style scoped>\n",
       "    .dataframe tbody tr th:only-of-type {\n",
       "        vertical-align: middle;\n",
       "    }\n",
       "\n",
       "    .dataframe tbody tr th {\n",
       "        vertical-align: top;\n",
       "    }\n",
       "\n",
       "    .dataframe thead th {\n",
       "        text-align: right;\n",
       "    }\n",
       "</style>\n",
       "<table border=\"1\" class=\"dataframe\">\n",
       "  <thead>\n",
       "    <tr style=\"text-align: right;\">\n",
       "      <th></th>\n",
       "      <th>MODELO</th>\n",
       "      <th>KM-LITRO</th>\n",
       "      <th>CILINDROS</th>\n",
       "      <th>PESO(KG)</th>\n",
       "      <th>CAVALOS</th>\n",
       "      <th>TRANSMISSAO</th>\n",
       "      <th>PAIS</th>\n",
       "    </tr>\n",
       "  </thead>\n",
       "  <tbody>\n",
       "    <tr>\n",
       "      <th>0</th>\n",
       "      <td>12</td>\n",
       "      <td>3.0</td>\n",
       "      <td>12</td>\n",
       "      <td>1200</td>\n",
       "      <td>700</td>\n",
       "      <td>0</td>\n",
       "      <td>3</td>\n",
       "    </tr>\n",
       "    <tr>\n",
       "      <th>1</th>\n",
       "      <td>12</td>\n",
       "      <td>3.0</td>\n",
       "      <td>12</td>\n",
       "      <td>1200</td>\n",
       "      <td>700</td>\n",
       "      <td>0</td>\n",
       "      <td>6</td>\n",
       "    </tr>\n",
       "    <tr>\n",
       "      <th>2</th>\n",
       "      <td>12</td>\n",
       "      <td>3.0</td>\n",
       "      <td>12</td>\n",
       "      <td>1200</td>\n",
       "      <td>700</td>\n",
       "      <td>0</td>\n",
       "      <td>5</td>\n",
       "    </tr>\n",
       "    <tr>\n",
       "      <th>3</th>\n",
       "      <td>6</td>\n",
       "      <td>3.0</td>\n",
       "      <td>12</td>\n",
       "      <td>1400</td>\n",
       "      <td>640</td>\n",
       "      <td>0</td>\n",
       "      <td>4</td>\n",
       "    </tr>\n",
       "    <tr>\n",
       "      <th>4</th>\n",
       "      <td>0</td>\n",
       "      <td>3.5</td>\n",
       "      <td>10</td>\n",
       "      <td>1600</td>\n",
       "      <td>620</td>\n",
       "      <td>0</td>\n",
       "      <td>8</td>\n",
       "    </tr>\n",
       "  </tbody>\n",
       "</table>\n",
       "</div>"
      ],
      "text/plain": [
       "   MODELO  KM-LITRO  CILINDROS  PESO(KG)  CAVALOS  TRANSMISSAO  PAIS\n",
       "0      12       3.0         12      1200      700            0     3\n",
       "1      12       3.0         12      1200      700            0     6\n",
       "2      12       3.0         12      1200      700            0     5\n",
       "3       6       3.0         12      1400      640            0     4\n",
       "4       0       3.5         10      1600      620            0     8"
      ]
     },
     "execution_count": 16,
     "metadata": {},
     "output_type": "execute_result"
    }
   ],
   "source": [
    "df.head()"
   ]
  },
  {
   "cell_type": "code",
   "execution_count": 17,
   "id": "0cc4cc79",
   "metadata": {},
   "outputs": [
    {
     "data": {
      "application/vnd.microsoft.datawrangler.viewer.v0+json": {
       "columns": [
        {
         "name": "index",
         "rawType": "object",
         "type": "string"
        },
        {
         "name": "MODELO",
         "rawType": "float64",
         "type": "float"
        },
        {
         "name": "KM-LITRO",
         "rawType": "float64",
         "type": "float"
        },
        {
         "name": "CILINDROS",
         "rawType": "float64",
         "type": "float"
        },
        {
         "name": "PESO(KG)",
         "rawType": "float64",
         "type": "float"
        },
        {
         "name": "CAVALOS",
         "rawType": "float64",
         "type": "float"
        },
        {
         "name": "TRANSMISSAO",
         "rawType": "float64",
         "type": "float"
        },
        {
         "name": "PAIS",
         "rawType": "float64",
         "type": "float"
        }
       ],
       "conversionMethod": "pd.DataFrame",
       "ref": "43b78a02-b0e4-44ea-b90e-54c5c0a5dd3b",
       "rows": [
        [
         "count",
         "986.0",
         "984.0",
         "986.0",
         "986.0",
         "986.0",
         "986.0",
         "986.0"
        ],
        [
         "mean",
         "10.855983772819473",
         "8.209552845528457",
         "6.1156186612576064",
         "1959.4320486815416",
         "262.6227180527383",
         "0.4563894523326572",
         "4.498985801217039"
        ],
        [
         "std",
         "6.333341769178309",
         "3.7184112331658405",
         "2.764682901492265",
         "459.7696200269848",
         "209.5446686836042",
         "0.4983472648628142",
         "2.871618335322015"
        ],
        [
         "min",
         "0.0",
         "3.0",
         "3.0",
         "1200.0",
         "116.0",
         "0.0",
         "0.0"
        ],
        [
         "25%",
         "6.0",
         "4.5",
         "4.0",
         "1700.0",
         "118.0",
         "0.0",
         "2.0"
        ],
        [
         "50%",
         "12.0",
         "8.0",
         "4.0",
         "1700.0",
         "118.0",
         "0.0",
         "4.5"
        ],
        [
         "75%",
         "16.0",
         "11.0",
         "8.0",
         "2300.0",
         "340.0",
         "1.0",
         "7.0"
        ],
        [
         "max",
         "21.0",
         "14.0",
         "12.0",
         "3000.0",
         "1800.0",
         "1.0",
         "9.0"
        ]
       ],
       "shape": {
        "columns": 7,
        "rows": 8
       }
      },
      "text/html": [
       "<div>\n",
       "<style scoped>\n",
       "    .dataframe tbody tr th:only-of-type {\n",
       "        vertical-align: middle;\n",
       "    }\n",
       "\n",
       "    .dataframe tbody tr th {\n",
       "        vertical-align: top;\n",
       "    }\n",
       "\n",
       "    .dataframe thead th {\n",
       "        text-align: right;\n",
       "    }\n",
       "</style>\n",
       "<table border=\"1\" class=\"dataframe\">\n",
       "  <thead>\n",
       "    <tr style=\"text-align: right;\">\n",
       "      <th></th>\n",
       "      <th>MODELO</th>\n",
       "      <th>KM-LITRO</th>\n",
       "      <th>CILINDROS</th>\n",
       "      <th>PESO(KG)</th>\n",
       "      <th>CAVALOS</th>\n",
       "      <th>TRANSMISSAO</th>\n",
       "      <th>PAIS</th>\n",
       "    </tr>\n",
       "  </thead>\n",
       "  <tbody>\n",
       "    <tr>\n",
       "      <th>count</th>\n",
       "      <td>986.000000</td>\n",
       "      <td>984.000000</td>\n",
       "      <td>986.000000</td>\n",
       "      <td>986.000000</td>\n",
       "      <td>986.000000</td>\n",
       "      <td>986.000000</td>\n",
       "      <td>986.000000</td>\n",
       "    </tr>\n",
       "    <tr>\n",
       "      <th>mean</th>\n",
       "      <td>10.855984</td>\n",
       "      <td>8.209553</td>\n",
       "      <td>6.115619</td>\n",
       "      <td>1959.432049</td>\n",
       "      <td>262.622718</td>\n",
       "      <td>0.456389</td>\n",
       "      <td>4.498986</td>\n",
       "    </tr>\n",
       "    <tr>\n",
       "      <th>std</th>\n",
       "      <td>6.333342</td>\n",
       "      <td>3.718411</td>\n",
       "      <td>2.764683</td>\n",
       "      <td>459.769620</td>\n",
       "      <td>209.544669</td>\n",
       "      <td>0.498347</td>\n",
       "      <td>2.871618</td>\n",
       "    </tr>\n",
       "    <tr>\n",
       "      <th>min</th>\n",
       "      <td>0.000000</td>\n",
       "      <td>3.000000</td>\n",
       "      <td>3.000000</td>\n",
       "      <td>1200.000000</td>\n",
       "      <td>116.000000</td>\n",
       "      <td>0.000000</td>\n",
       "      <td>0.000000</td>\n",
       "    </tr>\n",
       "    <tr>\n",
       "      <th>25%</th>\n",
       "      <td>6.000000</td>\n",
       "      <td>4.500000</td>\n",
       "      <td>4.000000</td>\n",
       "      <td>1700.000000</td>\n",
       "      <td>118.000000</td>\n",
       "      <td>0.000000</td>\n",
       "      <td>2.000000</td>\n",
       "    </tr>\n",
       "    <tr>\n",
       "      <th>50%</th>\n",
       "      <td>12.000000</td>\n",
       "      <td>8.000000</td>\n",
       "      <td>4.000000</td>\n",
       "      <td>1700.000000</td>\n",
       "      <td>118.000000</td>\n",
       "      <td>0.000000</td>\n",
       "      <td>4.500000</td>\n",
       "    </tr>\n",
       "    <tr>\n",
       "      <th>75%</th>\n",
       "      <td>16.000000</td>\n",
       "      <td>11.000000</td>\n",
       "      <td>8.000000</td>\n",
       "      <td>2300.000000</td>\n",
       "      <td>340.000000</td>\n",
       "      <td>1.000000</td>\n",
       "      <td>7.000000</td>\n",
       "    </tr>\n",
       "    <tr>\n",
       "      <th>max</th>\n",
       "      <td>21.000000</td>\n",
       "      <td>14.000000</td>\n",
       "      <td>12.000000</td>\n",
       "      <td>3000.000000</td>\n",
       "      <td>1800.000000</td>\n",
       "      <td>1.000000</td>\n",
       "      <td>9.000000</td>\n",
       "    </tr>\n",
       "  </tbody>\n",
       "</table>\n",
       "</div>"
      ],
      "text/plain": [
       "           MODELO    KM-LITRO   CILINDROS     PESO(KG)      CAVALOS  \\\n",
       "count  986.000000  984.000000  986.000000   986.000000   986.000000   \n",
       "mean    10.855984    8.209553    6.115619  1959.432049   262.622718   \n",
       "std      6.333342    3.718411    2.764683   459.769620   209.544669   \n",
       "min      0.000000    3.000000    3.000000  1200.000000   116.000000   \n",
       "25%      6.000000    4.500000    4.000000  1700.000000   118.000000   \n",
       "50%     12.000000    8.000000    4.000000  1700.000000   118.000000   \n",
       "75%     16.000000   11.000000    8.000000  2300.000000   340.000000   \n",
       "max     21.000000   14.000000   12.000000  3000.000000  1800.000000   \n",
       "\n",
       "       TRANSMISSAO        PAIS  \n",
       "count   986.000000  986.000000  \n",
       "mean      0.456389    4.498986  \n",
       "std       0.498347    2.871618  \n",
       "min       0.000000    0.000000  \n",
       "25%       0.000000    2.000000  \n",
       "50%       0.000000    4.500000  \n",
       "75%       1.000000    7.000000  \n",
       "max       1.000000    9.000000  "
      ]
     },
     "execution_count": 17,
     "metadata": {},
     "output_type": "execute_result"
    }
   ],
   "source": [
    "df_dados.describe()"
   ]
  },
  {
   "cell_type": "code",
   "execution_count": 18,
   "id": "ee7ec71d",
   "metadata": {},
   "outputs": [
    {
     "data": {
      "text/plain": [
       "PAIS\n",
       "3    99\n",
       "6    99\n",
       "5    99\n",
       "4    99\n",
       "8    99\n",
       "0    99\n",
       "1    98\n",
       "9    98\n",
       "2    98\n",
       "7    98\n",
       "Name: count, dtype: int64"
      ]
     },
     "execution_count": 18,
     "metadata": {},
     "output_type": "execute_result"
    }
   ],
   "source": [
    "df['PAIS'].value_counts()"
   ]
  },
  {
   "cell_type": "code",
   "execution_count": 19,
   "id": "d2765caf",
   "metadata": {},
   "outputs": [
    {
     "data": {
      "text/plain": [
       "PAIS\n",
       "0    99\n",
       "1    98\n",
       "2    98\n",
       "3    99\n",
       "4    99\n",
       "5    99\n",
       "6    99\n",
       "7    98\n",
       "8    99\n",
       "9    98\n",
       "dtype: int64"
      ]
     },
     "execution_count": 19,
     "metadata": {},
     "output_type": "execute_result"
    }
   ],
   "source": [
    "df.groupby('PAIS').size()"
   ]
  },
  {
   "cell_type": "code",
   "execution_count": null,
   "id": "11a79df0",
   "metadata": {},
   "outputs": [],
   "source": [
    "# O que é o MinMaxScaler e o StandardScaler?\n",
    "# O MinMaxScaler é uma técnica de normalização que transforma os dados para que fiquem entre 0 e 1.\n",
    "# O StandardScaler é uma técnica de padronização que transforma os dados para que tenham média 0 e desvio padrão 1.\n",
    "\n",
    "from sklearn.preprocessing import MinMaxScaler, StandardScaler # mimmaxscaler faz a normalização dos dados e o Standard faz a padronização dos dados\n",
    "import seaborn as sns\n",
    "import matplotlib.pyplot as plt"
   ]
  },
  {
   "cell_type": "code",
   "execution_count": 32,
   "id": "e6279709",
   "metadata": {},
   "outputs": [
    {
     "data": {
      "image/png": "[encoded data removed]",
      "text/plain": [
       "<Figure size 1000x500 with 1 Axes>"
      ]
     },
     "metadata": {},
     "output_type": "display_data"
    }
   ],
   "source": [
    "# Antes da Padronização\n",
    "\n",
    "plt.figure(figsize=(10,5))\n",
    "ax = sns.boxplot(data=df_dados)\n",
    "plt.show()"
   ]
  },
  {
   "cell_type": "code",
   "execution_count": null,
   "id": "e7176776",
   "metadata": {},
   "outputs": [
    {
     "data": {
      "text/plain": [
       "array([[ 0.18072557, -1.40172823,  2.12949108, ...,  2.08833394,\n",
       "        -0.91627083, -0.52226527],\n",
       "       [ 0.18072557, -1.40172823,  2.12949108, ...,  2.08833394,\n",
       "        -0.91627083,  0.52297199],\n",
       "       [ 0.18072557, -1.40172823,  2.12949108, ...,  2.08833394,\n",
       "        -0.91627083,  0.17455957],\n",
       "       ...,\n",
       "       [ 1.44452282,  1.42349437, -0.76561848, ..., -0.69052633,\n",
       "         1.09138037, -0.17385285],\n",
       "       [ 0.49667488,  1.55802878, -0.76561848, ..., -0.69052633,\n",
       "         1.09138037,  1.21979682],\n",
       "       [ 1.1285735 , -0.05638414, -0.04184109, ..., -0.69052633,\n",
       "         1.09138037, -1.56750252]])"
      ]
     },
     "execution_count": 22,
     "metadata": {},
     "output_type": "execute_result"
    }
   ],
   "source": [
    "# Padronizando os dados\n",
    "\n",
    "padronizar = StandardScaler().fit(df_dados)\n",
    "\n",
    "df_padronizado = padronizar.transform(df_dados)\n",
    "df_padronizado"
   ]
  },
  {
   "cell_type": "code",
   "execution_count": null,
   "id": "d908328b",
   "metadata": {},
   "outputs": [
    {
     "data": {
      "application/vnd.microsoft.datawrangler.viewer.v0+json": {
       "columns": [
        {
         "name": "index",
         "rawType": "int64",
         "type": "integer"
        },
        {
         "name": "MODELO",
         "rawType": "float64",
         "type": "float"
        },
        {
         "name": "KM-LITRO",
         "rawType": "float64",
         "type": "float"
        },
        {
         "name": "CILINDROS",
         "rawType": "float64",
         "type": "float"
        },
        {
         "name": "PESO(KG)",
         "rawType": "float64",
         "type": "float"
        },
        {
         "name": "CAVALOS",
         "rawType": "float64",
         "type": "float"
        },
        {
         "name": "TRANSMISSAO",
         "rawType": "float64",
         "type": "float"
        },
        {
         "name": "PAIS",
         "rawType": "float64",
         "type": "float"
        }
       ],
       "conversionMethod": "pd.DataFrame",
       "ref": "5081fea1-9434-49f4-8b7c-6db34c4f38b6",
       "rows": [
        [
         "0",
         "0.1807255696087693",
         "-1.4017282297584734",
         "2.1294910795852675",
         "-1.6526047313569574",
         "2.088333944737354",
         "-0.9162708326722894",
         "-0.5222652663281017"
        ],
        [
         "1",
         "0.1807255696087693",
         "-1.4017282297584734",
         "2.1294910795852675",
         "-1.6526047313569574",
         "2.088333944737354",
         "-0.9162708326722894",
         "0.522971985227057"
        ],
        [
         "2",
         "0.1807255696087693",
         "-1.4017282297584734",
         "2.1294910795852675",
         "-1.6526047313569574",
         "2.088333944737354",
         "-0.9162708326722894",
         "0.17455956804200412"
        ],
        [
         "3",
         "-0.7671223646159462",
         "-1.4017282297584734",
         "2.1294910795852675",
         "-1.2173835066993826",
         "1.8018535035804908",
         "-0.9162708326722894",
         "-0.17385284914304874"
        ],
        [
         "4",
         "-1.7149702988406617",
         "-1.2671938204414026",
         "1.4057136909361556",
         "-0.7821622820418078",
         "1.70636002319487",
         "-0.9162708326722894",
         "1.2197968195971627"
        ]
       ],
       "shape": {
        "columns": 7,
        "rows": 5
       }
      },
      "text/html": [
       "<div>\n",
       "<style scoped>\n",
       "    .dataframe tbody tr th:only-of-type {\n",
       "        vertical-align: middle;\n",
       "    }\n",
       "\n",
       "    .dataframe tbody tr th {\n",
       "        vertical-align: top;\n",
       "    }\n",
       "\n",
       "    .dataframe thead th {\n",
       "        text-align: right;\n",
       "    }\n",
       "</style>\n",
       "<table border=\"1\" class=\"dataframe\">\n",
       "  <thead>\n",
       "    <tr style=\"text-align: right;\">\n",
       "      <th></th>\n",
       "      <th>MODELO</th>\n",
       "      <th>KM-LITRO</th>\n",
       "      <th>CILINDROS</th>\n",
       "      <th>PESO(KG)</th>\n",
       "      <th>CAVALOS</th>\n",
       "      <th>TRANSMISSAO</th>\n",
       "      <th>PAIS</th>\n",
       "    </tr>\n",
       "  </thead>\n",
       "  <tbody>\n",
       "    <tr>\n",
       "      <th>0</th>\n",
       "      <td>0.180726</td>\n",
       "      <td>-1.401728</td>\n",
       "      <td>2.129491</td>\n",
       "      <td>-1.652605</td>\n",
       "      <td>2.088334</td>\n",
       "      <td>-0.916271</td>\n",
       "      <td>-0.522265</td>\n",
       "    </tr>\n",
       "    <tr>\n",
       "      <th>1</th>\n",
       "      <td>0.180726</td>\n",
       "      <td>-1.401728</td>\n",
       "      <td>2.129491</td>\n",
       "      <td>-1.652605</td>\n",
       "      <td>2.088334</td>\n",
       "      <td>-0.916271</td>\n",
       "      <td>0.522972</td>\n",
       "    </tr>\n",
       "    <tr>\n",
       "      <th>2</th>\n",
       "      <td>0.180726</td>\n",
       "      <td>-1.401728</td>\n",
       "      <td>2.129491</td>\n",
       "      <td>-1.652605</td>\n",
       "      <td>2.088334</td>\n",
       "      <td>-0.916271</td>\n",
       "      <td>0.174560</td>\n",
       "    </tr>\n",
       "    <tr>\n",
       "      <th>3</th>\n",
       "      <td>-0.767122</td>\n",
       "      <td>-1.401728</td>\n",
       "      <td>2.129491</td>\n",
       "      <td>-1.217384</td>\n",
       "      <td>1.801854</td>\n",
       "      <td>-0.916271</td>\n",
       "      <td>-0.173853</td>\n",
       "    </tr>\n",
       "    <tr>\n",
       "      <th>4</th>\n",
       "      <td>-1.714970</td>\n",
       "      <td>-1.267194</td>\n",
       "      <td>1.405714</td>\n",
       "      <td>-0.782162</td>\n",
       "      <td>1.706360</td>\n",
       "      <td>-0.916271</td>\n",
       "      <td>1.219797</td>\n",
       "    </tr>\n",
       "  </tbody>\n",
       "</table>\n",
       "</div>"
      ],
      "text/plain": [
       "     MODELO  KM-LITRO  CILINDROS  PESO(KG)   CAVALOS  TRANSMISSAO      PAIS\n",
       "0  0.180726 -1.401728   2.129491 -1.652605  2.088334    -0.916271 -0.522265\n",
       "1  0.180726 -1.401728   2.129491 -1.652605  2.088334    -0.916271  0.522972\n",
       "2  0.180726 -1.401728   2.129491 -1.652605  2.088334    -0.916271  0.174560\n",
       "3 -0.767122 -1.401728   2.129491 -1.217384  1.801854    -0.916271 -0.173853\n",
       "4 -1.714970 -1.267194   1.405714 -0.782162  1.706360    -0.916271  1.219797"
      ]
     },
     "execution_count": 23,
     "metadata": {},
     "output_type": "execute_result"
    }
   ],
   "source": [
    "# Transformando o array em um DataFrame\n",
    "df_padronizado = pd.DataFrame(df_padronizado, columns=df_dados.columns)\n",
    "\n",
    "df_padronizado.head()"
   ]
  },
  {
   "cell_type": "code",
   "execution_count": 24,
   "id": "d8905507",
   "metadata": {},
   "outputs": [
    {
     "data": {
      "application/vnd.microsoft.datawrangler.viewer.v0+json": {
       "columns": [
        {
         "name": "index",
         "rawType": "object",
         "type": "string"
        },
        {
         "name": "MODELO",
         "rawType": "float64",
         "type": "float"
        },
        {
         "name": "KM-LITRO",
         "rawType": "float64",
         "type": "float"
        },
        {
         "name": "CILINDROS",
         "rawType": "float64",
         "type": "float"
        },
        {
         "name": "PESO(KG)",
         "rawType": "float64",
         "type": "float"
        },
        {
         "name": "CAVALOS",
         "rawType": "float64",
         "type": "float"
        },
        {
         "name": "TRANSMISSAO",
         "rawType": "float64",
         "type": "float"
        },
        {
         "name": "PAIS",
         "rawType": "float64",
         "type": "float"
        }
       ],
       "conversionMethod": "pd.DataFrame",
       "ref": "1772a2a7-6f9d-4482-ae9f-178e933ef11a",
       "rows": [
        [
         "count",
         "986.0",
         "984.0",
         "986.0",
         "986.0",
         "986.0",
         "986.0",
         "986.0"
        ],
        [
         "mean",
         "1.1710263140062503e-17",
         "-3.402878701493366e-16",
         "-1.9817368390875005e-17",
         "2.0718157863187505e-17",
         "9.908684195437502e-17",
         "-6.305526306187502e-17",
         "-1.0764434194134377e-16"
        ],
        [
         "std",
         "1.000507485442461",
         "1.000508517703855",
         "1.0005074854424607",
         "1.000507485442461",
         "1.000507485442461",
         "1.000507485442461",
         "1.000507485442461"
        ],
        [
         "min",
         "-1.7149702988406617",
         "-1.4017282297584734",
         "-1.1275071693357364",
         "-1.6526047313569574",
         "-0.7000756825227806",
         "-0.9162708326722894",
         "-1.5675025178832602"
        ],
        [
         "25%",
         "-0.7671223646159462",
         "-0.9981250018072608",
         "-0.7656184750111803",
         "-0.5645516697130204",
         "-0.6905263344842185",
         "-0.9162708326722894",
         "-0.8706776835131544"
        ],
        [
         "50%",
         "0.1807255696087693",
         "-0.0563841365877646",
         "-0.7656184750111803",
         "-0.5645516697130204",
         "-0.6905263344842185",
         "-0.9162708326722894",
         "0.00035335944947767484"
        ],
        [
         "75%",
         "0.8126241924252462",
         "0.7508223193146607",
         "0.6819363022870437",
         "0.7411120042597039",
         "0.36945129779617514",
         "1.0913803695829933",
         "0.8713844024121098"
        ],
        [
         "max",
         "1.6024974709458424",
         "1.558028775217086",
         "2.1294910795852675",
         "2.2643862905612155",
         "7.340475365946512",
         "1.0913803695829933",
         "1.5682092367822156"
        ]
       ],
       "shape": {
        "columns": 7,
        "rows": 8
       }
      },
      "text/html": [
       "<div>\n",
       "<style scoped>\n",
       "    .dataframe tbody tr th:only-of-type {\n",
       "        vertical-align: middle;\n",
       "    }\n",
       "\n",
       "    .dataframe tbody tr th {\n",
       "        vertical-align: top;\n",
       "    }\n",
       "\n",
       "    .dataframe thead th {\n",
       "        text-align: right;\n",
       "    }\n",
       "</style>\n",
       "<table border=\"1\" class=\"dataframe\">\n",
       "  <thead>\n",
       "    <tr style=\"text-align: right;\">\n",
       "      <th></th>\n",
       "      <th>MODELO</th>\n",
       "      <th>KM-LITRO</th>\n",
       "      <th>CILINDROS</th>\n",
       "      <th>PESO(KG)</th>\n",
       "      <th>CAVALOS</th>\n",
       "      <th>TRANSMISSAO</th>\n",
       "      <th>PAIS</th>\n",
       "    </tr>\n",
       "  </thead>\n",
       "  <tbody>\n",
       "    <tr>\n",
       "      <th>count</th>\n",
       "      <td>9.860000e+02</td>\n",
       "      <td>9.840000e+02</td>\n",
       "      <td>9.860000e+02</td>\n",
       "      <td>9.860000e+02</td>\n",
       "      <td>9.860000e+02</td>\n",
       "      <td>9.860000e+02</td>\n",
       "      <td>9.860000e+02</td>\n",
       "    </tr>\n",
       "    <tr>\n",
       "      <th>mean</th>\n",
       "      <td>1.171026e-17</td>\n",
       "      <td>-3.402879e-16</td>\n",
       "      <td>-1.981737e-17</td>\n",
       "      <td>2.071816e-17</td>\n",
       "      <td>9.908684e-17</td>\n",
       "      <td>-6.305526e-17</td>\n",
       "      <td>-1.076443e-16</td>\n",
       "    </tr>\n",
       "    <tr>\n",
       "      <th>std</th>\n",
       "      <td>1.000507e+00</td>\n",
       "      <td>1.000509e+00</td>\n",
       "      <td>1.000507e+00</td>\n",
       "      <td>1.000507e+00</td>\n",
       "      <td>1.000507e+00</td>\n",
       "      <td>1.000507e+00</td>\n",
       "      <td>1.000507e+00</td>\n",
       "    </tr>\n",
       "    <tr>\n",
       "      <th>min</th>\n",
       "      <td>-1.714970e+00</td>\n",
       "      <td>-1.401728e+00</td>\n",
       "      <td>-1.127507e+00</td>\n",
       "      <td>-1.652605e+00</td>\n",
       "      <td>-7.000757e-01</td>\n",
       "      <td>-9.162708e-01</td>\n",
       "      <td>-1.567503e+00</td>\n",
       "    </tr>\n",
       "    <tr>\n",
       "      <th>25%</th>\n",
       "      <td>-7.671224e-01</td>\n",
       "      <td>-9.981250e-01</td>\n",
       "      <td>-7.656185e-01</td>\n",
       "      <td>-5.645517e-01</td>\n",
       "      <td>-6.905263e-01</td>\n",
       "      <td>-9.162708e-01</td>\n",
       "      <td>-8.706777e-01</td>\n",
       "    </tr>\n",
       "    <tr>\n",
       "      <th>50%</th>\n",
       "      <td>1.807256e-01</td>\n",
       "      <td>-5.638414e-02</td>\n",
       "      <td>-7.656185e-01</td>\n",
       "      <td>-5.645517e-01</td>\n",
       "      <td>-6.905263e-01</td>\n",
       "      <td>-9.162708e-01</td>\n",
       "      <td>3.533594e-04</td>\n",
       "    </tr>\n",
       "    <tr>\n",
       "      <th>75%</th>\n",
       "      <td>8.126242e-01</td>\n",
       "      <td>7.508223e-01</td>\n",
       "      <td>6.819363e-01</td>\n",
       "      <td>7.411120e-01</td>\n",
       "      <td>3.694513e-01</td>\n",
       "      <td>1.091380e+00</td>\n",
       "      <td>8.713844e-01</td>\n",
       "    </tr>\n",
       "    <tr>\n",
       "      <th>max</th>\n",
       "      <td>1.602497e+00</td>\n",
       "      <td>1.558029e+00</td>\n",
       "      <td>2.129491e+00</td>\n",
       "      <td>2.264386e+00</td>\n",
       "      <td>7.340475e+00</td>\n",
       "      <td>1.091380e+00</td>\n",
       "      <td>1.568209e+00</td>\n",
       "    </tr>\n",
       "  </tbody>\n",
       "</table>\n",
       "</div>"
      ],
      "text/plain": [
       "             MODELO      KM-LITRO     CILINDROS      PESO(KG)       CAVALOS  \\\n",
       "count  9.860000e+02  9.840000e+02  9.860000e+02  9.860000e+02  9.860000e+02   \n",
       "mean   1.171026e-17 -3.402879e-16 -1.981737e-17  2.071816e-17  9.908684e-17   \n",
       "std    1.000507e+00  1.000509e+00  1.000507e+00  1.000507e+00  1.000507e+00   \n",
       "min   -1.714970e+00 -1.401728e+00 -1.127507e+00 -1.652605e+00 -7.000757e-01   \n",
       "25%   -7.671224e-01 -9.981250e-01 -7.656185e-01 -5.645517e-01 -6.905263e-01   \n",
       "50%    1.807256e-01 -5.638414e-02 -7.656185e-01 -5.645517e-01 -6.905263e-01   \n",
       "75%    8.126242e-01  7.508223e-01  6.819363e-01  7.411120e-01  3.694513e-01   \n",
       "max    1.602497e+00  1.558029e+00  2.129491e+00  2.264386e+00  7.340475e+00   \n",
       "\n",
       "        TRANSMISSAO          PAIS  \n",
       "count  9.860000e+02  9.860000e+02  \n",
       "mean  -6.305526e-17 -1.076443e-16  \n",
       "std    1.000507e+00  1.000507e+00  \n",
       "min   -9.162708e-01 -1.567503e+00  \n",
       "25%   -9.162708e-01 -8.706777e-01  \n",
       "50%   -9.162708e-01  3.533594e-04  \n",
       "75%    1.091380e+00  8.713844e-01  \n",
       "max    1.091380e+00  1.568209e+00  "
      ]
     },
     "execution_count": 24,
     "metadata": {},
     "output_type": "execute_result"
    }
   ],
   "source": [
    "df_padronizado.describe()"
   ]
  },
  {
   "cell_type": "code",
   "execution_count": 31,
   "id": "178c2156",
   "metadata": {},
   "outputs": [
    {
     "data": {
      "image/png": "[encoded data removed]",
      "text/plain": [
       "<Figure size 1000x500 with 1 Axes>"
      ]
     },
     "metadata": {},
     "output_type": "display_data"
    }
   ],
   "source": [
    "# Depois da Padronização\n",
    "\n",
    "plt.figure(figsize=(10,5))\n",
    "ax = sns.boxplot(data=df_padronizado)\n",
    "plt.show()"
   ]
  },
  {
   "cell_type": "code",
   "execution_count": null,
   "id": "0bfd06b0",
   "metadata": {},
   "outputs": [],
   "source": []
  }
 ],
 "metadata": {
  "kernelspec": {
   "display_name": ".venv",
   "language": "python",
   "name": "python3"
  },
  "language_info": {
   "codemirror_mode": {
    "name": "ipython",
    "version": 3
   },
   "file_extension": ".py",
   "mimetype": "text/x-python",
   "name": "python",
   "nbconvert_exporter": "python",
   "pygments_lexer": "ipython3",
   "version": "3.10.11"
  }
 },
 "nbformat": 4,
 "nbformat_minor": 5
}
