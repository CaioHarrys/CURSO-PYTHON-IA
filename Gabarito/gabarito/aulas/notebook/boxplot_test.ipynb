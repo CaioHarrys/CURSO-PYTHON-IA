{
 "cells": [
  {
   "cell_type": "markdown",
   "id": "e67c5a5d",
   "metadata": {},
   "source": [
    "# Teste Grafico boxplot\n",
    "    Boxplot\n",
    "    Aula: 08/05"
   ]
  },
  {
   "cell_type": "code",
   "execution_count": 51,
   "id": "23b618ee",
   "metadata": {},
   "outputs": [],
   "source": [
    "import pandas as pd\n",
    "import matplotlib.pyplot as plt\n",
    "import seaborn as sns"
   ]
  },
  {
   "cell_type": "code",
   "execution_count": 52,
   "id": "23c17ced",
   "metadata": {},
   "outputs": [
    {
     "data": {
      "text/html": [
       "<div>\n",
       "<style scoped>\n",
       "    .dataframe tbody tr th:only-of-type {\n",
       "        vertical-align: middle;\n",
       "    }\n",
       "\n",
       "    .dataframe tbody tr th {\n",
       "        vertical-align: top;\n",
       "    }\n",
       "\n",
       "    .dataframe thead th {\n",
       "        text-align: right;\n",
       "    }\n",
       "</style>\n",
       "<table border=\"1\" class=\"dataframe\">\n",
       "  <thead>\n",
       "    <tr style=\"text-align: right;\">\n",
       "      <th></th>\n",
       "      <th>aluno</th>\n",
       "      <th>idade</th>\n",
       "    </tr>\n",
       "  </thead>\n",
       "  <tbody>\n",
       "    <tr>\n",
       "      <th>0</th>\n",
       "      <td>A1</td>\n",
       "      <td>15</td>\n",
       "    </tr>\n",
       "    <tr>\n",
       "      <th>1</th>\n",
       "      <td>A2</td>\n",
       "      <td>20</td>\n",
       "    </tr>\n",
       "    <tr>\n",
       "      <th>2</th>\n",
       "      <td>A3</td>\n",
       "      <td>22</td>\n",
       "    </tr>\n",
       "    <tr>\n",
       "      <th>3</th>\n",
       "      <td>A4</td>\n",
       "      <td>20</td>\n",
       "    </tr>\n",
       "    <tr>\n",
       "      <th>4</th>\n",
       "      <td>A5</td>\n",
       "      <td>28</td>\n",
       "    </tr>\n",
       "    <tr>\n",
       "      <th>5</th>\n",
       "      <td>A6</td>\n",
       "      <td>25</td>\n",
       "    </tr>\n",
       "    <tr>\n",
       "      <th>6</th>\n",
       "      <td>A7</td>\n",
       "      <td>20</td>\n",
       "    </tr>\n",
       "    <tr>\n",
       "      <th>7</th>\n",
       "      <td>A8</td>\n",
       "      <td>60</td>\n",
       "    </tr>\n",
       "    <tr>\n",
       "      <th>8</th>\n",
       "      <td>A9</td>\n",
       "      <td>21</td>\n",
       "    </tr>\n",
       "    <tr>\n",
       "      <th>9</th>\n",
       "      <td>A10</td>\n",
       "      <td>33</td>\n",
       "    </tr>\n",
       "    <tr>\n",
       "      <th>10</th>\n",
       "      <td>A11</td>\n",
       "      <td>2</td>\n",
       "    </tr>\n",
       "    <tr>\n",
       "      <th>11</th>\n",
       "      <td>A12</td>\n",
       "      <td>45</td>\n",
       "    </tr>\n",
       "  </tbody>\n",
       "</table>\n",
       "</div>"
      ],
      "text/plain": [
       "   aluno  idade\n",
       "0     A1     15\n",
       "1     A2     20\n",
       "2     A3     22\n",
       "3     A4     20\n",
       "4     A5     28\n",
       "5     A6     25\n",
       "6     A7     20\n",
       "7     A8     60\n",
       "8     A9     21\n",
       "9    A10     33\n",
       "10   A11      2\n",
       "11   A12     45"
      ]
     },
     "execution_count": 52,
     "metadata": {},
     "output_type": "execute_result"
    }
   ],
   "source": [
    "dados = {\n",
    "    'aluno':['A1', 'A2','A3','A4', 'A5','A6', 'A7','A8','A9','A10','A11','A12'],\n",
    "    'idade':[15,20,22,20,28,25,20,60,21,33,2,45],\n",
    "}\n",
    "\n",
    "df = pd.DataFrame(dados)\n",
    "df"
   ]
  },
  {
   "cell_type": "code",
   "execution_count": 53,
   "id": "40cf6e53",
   "metadata": {},
   "outputs": [
    {
     "data": {
      "text/html": [
       "<div>\n",
       "<style scoped>\n",
       "    .dataframe tbody tr th:only-of-type {\n",
       "        vertical-align: middle;\n",
       "    }\n",
       "\n",
       "    .dataframe tbody tr th {\n",
       "        vertical-align: top;\n",
       "    }\n",
       "\n",
       "    .dataframe thead th {\n",
       "        text-align: right;\n",
       "    }\n",
       "</style>\n",
       "<table border=\"1\" class=\"dataframe\">\n",
       "  <thead>\n",
       "    <tr style=\"text-align: right;\">\n",
       "      <th></th>\n",
       "      <th>idade</th>\n",
       "    </tr>\n",
       "  </thead>\n",
       "  <tbody>\n",
       "    <tr>\n",
       "      <th>count</th>\n",
       "      <td>12.000000</td>\n",
       "    </tr>\n",
       "    <tr>\n",
       "      <th>mean</th>\n",
       "      <td>25.916667</td>\n",
       "    </tr>\n",
       "    <tr>\n",
       "      <th>std</th>\n",
       "      <td>14.822945</td>\n",
       "    </tr>\n",
       "    <tr>\n",
       "      <th>min</th>\n",
       "      <td>2.000000</td>\n",
       "    </tr>\n",
       "    <tr>\n",
       "      <th>25%</th>\n",
       "      <td>20.000000</td>\n",
       "    </tr>\n",
       "    <tr>\n",
       "      <th>50%</th>\n",
       "      <td>21.500000</td>\n",
       "    </tr>\n",
       "    <tr>\n",
       "      <th>75%</th>\n",
       "      <td>29.250000</td>\n",
       "    </tr>\n",
       "    <tr>\n",
       "      <th>max</th>\n",
       "      <td>60.000000</td>\n",
       "    </tr>\n",
       "  </tbody>\n",
       "</table>\n",
       "</div>"
      ],
      "text/plain": [
       "           idade\n",
       "count  12.000000\n",
       "mean   25.916667\n",
       "std    14.822945\n",
       "min     2.000000\n",
       "25%    20.000000\n",
       "50%    21.500000\n",
       "75%    29.250000\n",
       "max    60.000000"
      ]
     },
     "execution_count": 53,
     "metadata": {},
     "output_type": "execute_result"
    }
   ],
   "source": [
    "df.describe()"
   ]
  },
  {
   "cell_type": "markdown",
   "id": "98217586",
   "metadata": {},
   "source": [
    "    Valores Quaties"
   ]
  },
  {
   "cell_type": "code",
   "execution_count": null,
   "id": "f6440f17",
   "metadata": {},
   "outputs": [
    {
     "name": "stdout",
     "output_type": "stream",
     "text": [
      "Maior idade: 60\n",
      "Menor idade: 2\n",
      "Q1: 20.0\n",
      "Q2: 21.5\n",
      "Q3: 29.25\n",
      "IQR: 9.25\n",
      "Bigode Inferior: 6.125\n",
      "Bigode Superior: 43.125\n"
     ]
    }
   ],
   "source": [
    "q1 = df['idade'].quantile(0.25)\n",
    "q3 = df['idade'].quantile(0.75)\n",
    "\n",
    "print(f'Maior idade: {df['idade'].max()}')\n",
    "print(f'Menor idade: {df['idade'].min()}')\n",
    "print(f'Q1: {q1}')\n",
    "print(f'Q2: {df['idade'].quantile(0.50)}')\n",
    "print(f'Q3: {q3}')\n",
    "print(f'IQR: {q3-q1}')\n",
    "print(f'Bigode Inferior: {q1-(1.5*(q3-q1))}')\n",
    "print(f'Bigode Superior: {q3+(1.5*(q3-q1))}')\n"
   ]
  },
  {
   "cell_type": "markdown",
   "id": "709e0062",
   "metadata": {},
   "source": [
    "# Graficos\n",
    "    Pandas"
   ]
  },
  {
   "cell_type": "code",
   "execution_count": 55,
   "id": "86c40c0f",
   "metadata": {},
   "outputs": [
    {
     "data": {
      "text/plain": [
       "<Axes: >"
      ]
     },
     "execution_count": 55,
     "metadata": {},
     "output_type": "execute_result"
    },
    {
     "data": {
      "image/png": "[encoded data removed]",
      "text/plain": [
       "<Figure size 640x480 with 1 Axes>"
      ]
     },
     "metadata": {},
     "output_type": "display_data"
    }
   ],
   "source": [
    "#Pandas\n",
    "\n",
    "df.boxplot(column='idade')"
   ]
  },
  {
   "cell_type": "markdown",
   "id": "4f5a4edf",
   "metadata": {},
   "source": [
    "    Seaborn"
   ]
  },
  {
   "cell_type": "code",
   "execution_count": 56,
   "id": "24eaf3d6",
   "metadata": {},
   "outputs": [
    {
     "data": {
      "image/png": "[encoded data removed]",
      "text/plain": [
       "<Figure size 640x480 with 1 Axes>"
      ]
     },
     "metadata": {},
     "output_type": "display_data"
    }
   ],
   "source": [
    "# Seaborn\n",
    "\n",
    "sns.boxplot(df['idade']) # Com o x= ou y= muda o eixo do grafico\n",
    "plt.show()"
   ]
  },
  {
   "cell_type": "markdown",
   "id": "ccc6ff68",
   "metadata": {},
   "source": [
    "    Matplotlib"
   ]
  },
  {
   "cell_type": "code",
   "execution_count": 57,
   "id": "3899b87e",
   "metadata": {},
   "outputs": [
    {
     "data": {
      "image/png": "[encoded data removed]",
      "text/plain": [
       "<Figure size 640x480 with 1 Axes>"
      ]
     },
     "metadata": {},
     "output_type": "display_data"
    }
   ],
   "source": [
    "# Matplotlib\n",
    "\n",
    "plt.boxplot(df['idade'])\n",
    "plt.show()"
   ]
  }
 ],
 "metadata": {
  "kernelspec": {
   "display_name": ".venv",
   "language": "python",
   "name": "python3"
  },
  "language_info": {
   "codemirror_mode": {
    "name": "ipython",
    "version": 3
   },
   "file_extension": ".py",
   "mimetype": "text/x-python",
   "name": "python",
   "nbconvert_exporter": "python",
   "pygments_lexer": "ipython3",
   "version": "3.12.10"
  }
 },
 "nbformat": 4,
 "nbformat_minor": 5
}
