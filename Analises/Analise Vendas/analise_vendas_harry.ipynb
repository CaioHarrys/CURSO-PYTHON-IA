{
 "cells": [
  {
   "cell_type": "markdown",
   "id": "ccb9fec2",
   "metadata": {},
   "source": [
    "# Analise Exploratoria"
   ]
  },
  {
   "cell_type": "markdown",
   "id": "ff35419b",
   "metadata": {},
   "source": [
    "📦 Importando as bibliotecas"
   ]
  },
  {
   "cell_type": "code",
   "execution_count": 3,
   "id": "492f5450",
   "metadata": {},
   "outputs": [],
   "source": [
    "import pandas as pd\n",
    "import numpy as np\n",
    "import matplotlib.pyplot as plt\n",
    "import seaborn as sns\n",
    "\n",
    "# Estilo de Gráfico\n",
    "sns.set(style=\"whitegrid\")\n",
    "\n",
    "# Importando o CSV\n",
    "df = pd.read_csv('dataset_vendas.csv')"
   ]
  },
  {
   "cell_type": "markdown",
   "id": "387062a9",
   "metadata": {},
   "source": [
    "🔍 Visão geral do dataset"
   ]
  },
  {
   "cell_type": "code",
   "execution_count": null,
   "id": "1ff0de47",
   "metadata": {},
   "outputs": [
    {
     "data": {
      "text/plain": [
       "(1000, 1)"
      ]
     },
     "execution_count": 11,
     "metadata": {},
     "output_type": "execute_result"
    }
   ],
   "source": [
    "df.shape "
   ]
  },
  {
   "cell_type": "code",
   "execution_count": 12,
   "id": "387d62f4",
   "metadata": {},
   "outputs": [
    {
     "data": {
      "text/plain": [
       "Index(['ID_Pedido;Data_Compra;Cliente_ID;Valor_Total;Categoria_Produto;Quantidade'], dtype='object')"
      ]
     },
     "execution_count": 12,
     "metadata": {},
     "output_type": "execute_result"
    }
   ],
   "source": [
    "df.columns"
   ]
  },
  {
   "cell_type": "code",
   "execution_count": 13,
   "id": "cfa0fdbb",
   "metadata": {},
   "outputs": [
    {
     "data": {
      "text/plain": [
       "ID_Pedido;Data_Compra;Cliente_ID;Valor_Total;Categoria_Produto;Quantidade    object\n",
       "dtype: object"
      ]
     },
     "execution_count": 13,
     "metadata": {},
     "output_type": "execute_result"
    }
   ],
   "source": [
    "df.dtypes"
   ]
  },
  {
   "cell_type": "code",
   "execution_count": 14,
   "id": "2188ef97",
   "metadata": {},
   "outputs": [
    {
     "name": "stdout",
     "output_type": "stream",
     "text": [
      "<class 'pandas.core.frame.DataFrame'>\n",
      "RangeIndex: 1000 entries, 0 to 999\n",
      "Data columns (total 1 columns):\n",
      " #   Column                                                                     Non-Null Count  Dtype \n",
      "---  ------                                                                     --------------  ----- \n",
      " 0   ID_Pedido;Data_Compra;Cliente_ID;Valor_Total;Categoria_Produto;Quantidade  1000 non-null   object\n",
      "dtypes: object(1)\n",
      "memory usage: 7.9+ KB\n"
     ]
    }
   ],
   "source": [
    "df.info()"
   ]
  },
  {
   "cell_type": "code",
   "execution_count": 15,
   "id": "2ab9e07b",
   "metadata": {},
   "outputs": [
    {
     "data": {
      "text/html": [
       "<div>\n",
       "<style scoped>\n",
       "    .dataframe tbody tr th:only-of-type {\n",
       "        vertical-align: middle;\n",
       "    }\n",
       "\n",
       "    .dataframe tbody tr th {\n",
       "        vertical-align: top;\n",
       "    }\n",
       "\n",
       "    .dataframe thead th {\n",
       "        text-align: right;\n",
       "    }\n",
       "</style>\n",
       "<table border=\"1\" class=\"dataframe\">\n",
       "  <thead>\n",
       "    <tr style=\"text-align: right;\">\n",
       "      <th></th>\n",
       "      <th>ID_Pedido;Data_Compra;Cliente_ID;Valor_Total;Categoria_Produto;Quantidade</th>\n",
       "    </tr>\n",
       "  </thead>\n",
       "  <tbody>\n",
       "    <tr>\n",
       "      <th>0</th>\n",
       "      <td>1001;2024-01-01;551;607.5;Roupas;1</td>\n",
       "    </tr>\n",
       "    <tr>\n",
       "      <th>1</th>\n",
       "      <td>1002;2024-01-02;592;758.17;Beleza;2</td>\n",
       "    </tr>\n",
       "    <tr>\n",
       "      <th>2</th>\n",
       "      <td>1003;2024-01-05;514;460.08;Roupas;6</td>\n",
       "    </tr>\n",
       "    <tr>\n",
       "      <th>3</th>\n",
       "      <td>1004;2024-01-04;571;171.2;Eletrônicos;5</td>\n",
       "    </tr>\n",
       "    <tr>\n",
       "      <th>4</th>\n",
       "      <td>1005;2024-01-05;560;319.59;Beleza;7</td>\n",
       "    </tr>\n",
       "  </tbody>\n",
       "</table>\n",
       "</div>"
      ],
      "text/plain": [
       "  ID_Pedido;Data_Compra;Cliente_ID;Valor_Total;Categoria_Produto;Quantidade\n",
       "0                 1001;2024-01-01;551;607.5;Roupas;1                       \n",
       "1                1002;2024-01-02;592;758.17;Beleza;2                       \n",
       "2                1003;2024-01-05;514;460.08;Roupas;6                       \n",
       "3            1004;2024-01-04;571;171.2;Eletrônicos;5                       \n",
       "4                1005;2024-01-05;560;319.59;Beleza;7                       "
      ]
     },
     "execution_count": 15,
     "metadata": {},
     "output_type": "execute_result"
    }
   ],
   "source": [
    "df.head()"
   ]
  },
  {
   "cell_type": "markdown",
   "id": "b8383bbf",
   "metadata": {},
   "source": [
    "🧼 Verificação e tratamento de dados faltantes"
   ]
  },
  {
   "cell_type": "code",
   "execution_count": 17,
   "id": "53e9ace5",
   "metadata": {},
   "outputs": [
    {
     "data": {
      "text/plain": [
       "ID_Pedido;Data_Compra;Cliente_ID;Valor_Total;Categoria_Produto;Quantidade    0\n",
       "dtype: int64"
      ]
     },
     "execution_count": 17,
     "metadata": {},
     "output_type": "execute_result"
    }
   ],
   "source": [
    "df.isnull().sum() # Verificando valores nulos."
   ]
  },
  {
   "cell_type": "code",
   "execution_count": null,
   "id": "ed26bb13",
   "metadata": {},
   "outputs": [],
   "source": [
    "df.dropna(inplace=True) # Removendo linhas com valores nulos."
   ]
  },
  {
   "cell_type": "code",
   "execution_count": null,
   "id": "b1bbc3a6",
   "metadata": {},
   "outputs": [],
   "source": []
  }
 ],
 "metadata": {
  "kernelspec": {
   "display_name": ".venv",
   "language": "python",
   "name": "python3"
  },
  "language_info": {
   "codemirror_mode": {
    "name": "ipython",
    "version": 3
   },
   "file_extension": ".py",
   "mimetype": "text/x-python",
   "name": "python",
   "nbconvert_exporter": "python",
   "pygments_lexer": "ipython3",
   "version": "3.12.10"
  }
 },
 "nbformat": 4,
 "nbformat_minor": 5
}
