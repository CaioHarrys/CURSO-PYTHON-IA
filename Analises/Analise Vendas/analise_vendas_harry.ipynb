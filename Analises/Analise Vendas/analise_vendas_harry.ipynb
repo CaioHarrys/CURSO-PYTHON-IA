{
 "cells": [
  {
   "cell_type": "markdown",
   "id": "ccb9fec2",
   "metadata": {},
   "source": [
    "# Analise Exploratoria"
   ]
  },
  {
   "cell_type": "markdown",
   "id": "ff35419b",
   "metadata": {},
   "source": [
    "📦 Importando as bibliotecas"
   ]
  },
  {
   "cell_type": "code",
   "execution_count": 14,
   "id": "492f5450",
   "metadata": {},
   "outputs": [],
   "source": [
    "import pandas as pd\n",
    "import numpy as np\n",
    "import matplotlib.pyplot as plt\n",
    "import seaborn as sns\n",
    "\n",
    "# Estilo de Gráfico\n",
    "sns.set(style=\"whitegrid\")\n",
    "\n",
    "# Importando o CSV\n",
    "df = pd.read_csv('dataset_vendas.csv', sep=';')"
   ]
  },
  {
   "cell_type": "markdown",
   "id": "387062a9",
   "metadata": {},
   "source": [
    "🔍 Visão geral do dataset"
   ]
  },
  {
   "cell_type": "code",
   "execution_count": 15,
   "id": "1ff0de47",
   "metadata": {},
   "outputs": [
    {
     "data": {
      "text/plain": [
       "(1000, 6)"
      ]
     },
     "execution_count": 15,
     "metadata": {},
     "output_type": "execute_result"
    }
   ],
   "source": [
    "df.shape "
   ]
  },
  {
   "cell_type": "code",
   "execution_count": 16,
   "id": "387d62f4",
   "metadata": {},
   "outputs": [
    {
     "data": {
      "text/plain": [
       "Index(['ID_Pedido', 'Data_Compra', 'Cliente_ID', 'Valor_Total',\n",
       "       'Categoria_Produto', 'Quantidade'],\n",
       "      dtype='object')"
      ]
     },
     "execution_count": 16,
     "metadata": {},
     "output_type": "execute_result"
    }
   ],
   "source": [
    "df.columns"
   ]
  },
  {
   "cell_type": "code",
   "execution_count": 17,
   "id": "cfa0fdbb",
   "metadata": {},
   "outputs": [
    {
     "data": {
      "text/plain": [
       "ID_Pedido              int64\n",
       "Data_Compra           object\n",
       "Cliente_ID             int64\n",
       "Valor_Total          float64\n",
       "Categoria_Produto     object\n",
       "Quantidade             int64\n",
       "dtype: object"
      ]
     },
     "execution_count": 17,
     "metadata": {},
     "output_type": "execute_result"
    }
   ],
   "source": [
    "df.dtypes"
   ]
  },
  {
   "cell_type": "code",
   "execution_count": 18,
   "id": "2188ef97",
   "metadata": {},
   "outputs": [
    {
     "name": "stdout",
     "output_type": "stream",
     "text": [
      "<class 'pandas.core.frame.DataFrame'>\n",
      "RangeIndex: 1000 entries, 0 to 999\n",
      "Data columns (total 6 columns):\n",
      " #   Column             Non-Null Count  Dtype  \n",
      "---  ------             --------------  -----  \n",
      " 0   ID_Pedido          1000 non-null   int64  \n",
      " 1   Data_Compra        1000 non-null   object \n",
      " 2   Cliente_ID         1000 non-null   int64  \n",
      " 3   Valor_Total        1000 non-null   float64\n",
      " 4   Categoria_Produto  1000 non-null   object \n",
      " 5   Quantidade         1000 non-null   int64  \n",
      "dtypes: float64(1), int64(3), object(2)\n",
      "memory usage: 47.0+ KB\n"
     ]
    }
   ],
   "source": [
    "df.info()"
   ]
  },
  {
   "cell_type": "code",
   "execution_count": 19,
   "id": "2ab9e07b",
   "metadata": {},
   "outputs": [
    {
     "data": {
      "text/html": [
       "<div>\n",
       "<style scoped>\n",
       "    .dataframe tbody tr th:only-of-type {\n",
       "        vertical-align: middle;\n",
       "    }\n",
       "\n",
       "    .dataframe tbody tr th {\n",
       "        vertical-align: top;\n",
       "    }\n",
       "\n",
       "    .dataframe thead th {\n",
       "        text-align: right;\n",
       "    }\n",
       "</style>\n",
       "<table border=\"1\" class=\"dataframe\">\n",
       "  <thead>\n",
       "    <tr style=\"text-align: right;\">\n",
       "      <th></th>\n",
       "      <th>ID_Pedido</th>\n",
       "      <th>Data_Compra</th>\n",
       "      <th>Cliente_ID</th>\n",
       "      <th>Valor_Total</th>\n",
       "      <th>Categoria_Produto</th>\n",
       "      <th>Quantidade</th>\n",
       "    </tr>\n",
       "  </thead>\n",
       "  <tbody>\n",
       "    <tr>\n",
       "      <th>0</th>\n",
       "      <td>1001</td>\n",
       "      <td>2024-01-01</td>\n",
       "      <td>551</td>\n",
       "      <td>607.50</td>\n",
       "      <td>Roupas</td>\n",
       "      <td>1</td>\n",
       "    </tr>\n",
       "    <tr>\n",
       "      <th>1</th>\n",
       "      <td>1002</td>\n",
       "      <td>2024-01-02</td>\n",
       "      <td>592</td>\n",
       "      <td>758.17</td>\n",
       "      <td>Beleza</td>\n",
       "      <td>2</td>\n",
       "    </tr>\n",
       "    <tr>\n",
       "      <th>2</th>\n",
       "      <td>1003</td>\n",
       "      <td>2024-01-05</td>\n",
       "      <td>514</td>\n",
       "      <td>460.08</td>\n",
       "      <td>Roupas</td>\n",
       "      <td>6</td>\n",
       "    </tr>\n",
       "    <tr>\n",
       "      <th>3</th>\n",
       "      <td>1004</td>\n",
       "      <td>2024-01-04</td>\n",
       "      <td>571</td>\n",
       "      <td>171.20</td>\n",
       "      <td>Eletrônicos</td>\n",
       "      <td>5</td>\n",
       "    </tr>\n",
       "    <tr>\n",
       "      <th>4</th>\n",
       "      <td>1005</td>\n",
       "      <td>2024-01-05</td>\n",
       "      <td>560</td>\n",
       "      <td>319.59</td>\n",
       "      <td>Beleza</td>\n",
       "      <td>7</td>\n",
       "    </tr>\n",
       "  </tbody>\n",
       "</table>\n",
       "</div>"
      ],
      "text/plain": [
       "   ID_Pedido Data_Compra  Cliente_ID  Valor_Total Categoria_Produto  \\\n",
       "0       1001  2024-01-01         551       607.50            Roupas   \n",
       "1       1002  2024-01-02         592       758.17            Beleza   \n",
       "2       1003  2024-01-05         514       460.08            Roupas   \n",
       "3       1004  2024-01-04         571       171.20       Eletrônicos   \n",
       "4       1005  2024-01-05         560       319.59            Beleza   \n",
       "\n",
       "   Quantidade  \n",
       "0           1  \n",
       "1           2  \n",
       "2           6  \n",
       "3           5  \n",
       "4           7  "
      ]
     },
     "execution_count": 19,
     "metadata": {},
     "output_type": "execute_result"
    }
   ],
   "source": [
    "df.head()"
   ]
  },
  {
   "cell_type": "markdown",
   "id": "b8383bbf",
   "metadata": {},
   "source": [
    "🧼 Verificação e tratamento de dados faltantes"
   ]
  },
  {
   "cell_type": "code",
   "execution_count": 20,
   "id": "53e9ace5",
   "metadata": {},
   "outputs": [
    {
     "data": {
      "text/plain": [
       "ID_Pedido            0\n",
       "Data_Compra          0\n",
       "Cliente_ID           0\n",
       "Valor_Total          0\n",
       "Categoria_Produto    0\n",
       "Quantidade           0\n",
       "dtype: int64"
      ]
     },
     "execution_count": 20,
     "metadata": {},
     "output_type": "execute_result"
    }
   ],
   "source": [
    "df.isnull().sum() # Verificando valores nulos."
   ]
  },
  {
   "cell_type": "code",
   "execution_count": 21,
   "id": "ed26bb13",
   "metadata": {},
   "outputs": [],
   "source": [
    "df.dropna(inplace=True) # Removendo linhas com valores nulos."
   ]
  },
  {
   "cell_type": "markdown",
   "id": "08207a0c",
   "metadata": {},
   "source": [
    "📊 Estatísticas descritivas"
   ]
  },
  {
   "cell_type": "code",
   "execution_count": 22,
   "id": "92a98043",
   "metadata": {},
   "outputs": [
    {
     "data": {
      "text/html": [
       "<div>\n",
       "<style scoped>\n",
       "    .dataframe tbody tr th:only-of-type {\n",
       "        vertical-align: middle;\n",
       "    }\n",
       "\n",
       "    .dataframe tbody tr th {\n",
       "        vertical-align: top;\n",
       "    }\n",
       "\n",
       "    .dataframe thead th {\n",
       "        text-align: right;\n",
       "    }\n",
       "</style>\n",
       "<table border=\"1\" class=\"dataframe\">\n",
       "  <thead>\n",
       "    <tr style=\"text-align: right;\">\n",
       "      <th></th>\n",
       "      <th>ID_Pedido</th>\n",
       "      <th>Data_Compra</th>\n",
       "      <th>Cliente_ID</th>\n",
       "      <th>Valor_Total</th>\n",
       "      <th>Categoria_Produto</th>\n",
       "      <th>Quantidade</th>\n",
       "    </tr>\n",
       "  </thead>\n",
       "  <tbody>\n",
       "    <tr>\n",
       "      <th>count</th>\n",
       "      <td>1000.000000</td>\n",
       "      <td>1000</td>\n",
       "      <td>1000.000000</td>\n",
       "      <td>1000.000000</td>\n",
       "      <td>1000</td>\n",
       "      <td>1000.000000</td>\n",
       "    </tr>\n",
       "    <tr>\n",
       "      <th>unique</th>\n",
       "      <td>NaN</td>\n",
       "      <td>612</td>\n",
       "      <td>NaN</td>\n",
       "      <td>NaN</td>\n",
       "      <td>5</td>\n",
       "      <td>NaN</td>\n",
       "    </tr>\n",
       "    <tr>\n",
       "      <th>top</th>\n",
       "      <td>NaN</td>\n",
       "      <td>2024-09-09</td>\n",
       "      <td>NaN</td>\n",
       "      <td>NaN</td>\n",
       "      <td>Esportes</td>\n",
       "      <td>NaN</td>\n",
       "    </tr>\n",
       "    <tr>\n",
       "      <th>freq</th>\n",
       "      <td>NaN</td>\n",
       "      <td>6</td>\n",
       "      <td>NaN</td>\n",
       "      <td>NaN</td>\n",
       "      <td>220</td>\n",
       "      <td>NaN</td>\n",
       "    </tr>\n",
       "    <tr>\n",
       "      <th>mean</th>\n",
       "      <td>1500.500000</td>\n",
       "      <td>NaN</td>\n",
       "      <td>549.128000</td>\n",
       "      <td>525.307940</td>\n",
       "      <td>NaN</td>\n",
       "      <td>4.945000</td>\n",
       "    </tr>\n",
       "    <tr>\n",
       "      <th>std</th>\n",
       "      <td>288.819436</td>\n",
       "      <td>NaN</td>\n",
       "      <td>29.573505</td>\n",
       "      <td>275.969012</td>\n",
       "      <td>NaN</td>\n",
       "      <td>2.614347</td>\n",
       "    </tr>\n",
       "    <tr>\n",
       "      <th>min</th>\n",
       "      <td>1001.000000</td>\n",
       "      <td>NaN</td>\n",
       "      <td>500.000000</td>\n",
       "      <td>54.400000</td>\n",
       "      <td>NaN</td>\n",
       "      <td>1.000000</td>\n",
       "    </tr>\n",
       "    <tr>\n",
       "      <th>25%</th>\n",
       "      <td>1250.750000</td>\n",
       "      <td>NaN</td>\n",
       "      <td>523.000000</td>\n",
       "      <td>275.285000</td>\n",
       "      <td>NaN</td>\n",
       "      <td>3.000000</td>\n",
       "    </tr>\n",
       "    <tr>\n",
       "      <th>50%</th>\n",
       "      <td>1500.500000</td>\n",
       "      <td>NaN</td>\n",
       "      <td>550.000000</td>\n",
       "      <td>534.640000</td>\n",
       "      <td>NaN</td>\n",
       "      <td>5.000000</td>\n",
       "    </tr>\n",
       "    <tr>\n",
       "      <th>75%</th>\n",
       "      <td>1750.250000</td>\n",
       "      <td>NaN</td>\n",
       "      <td>574.000000</td>\n",
       "      <td>756.435000</td>\n",
       "      <td>NaN</td>\n",
       "      <td>7.000000</td>\n",
       "    </tr>\n",
       "    <tr>\n",
       "      <th>max</th>\n",
       "      <td>2000.000000</td>\n",
       "      <td>NaN</td>\n",
       "      <td>599.000000</td>\n",
       "      <td>999.440000</td>\n",
       "      <td>NaN</td>\n",
       "      <td>9.000000</td>\n",
       "    </tr>\n",
       "  </tbody>\n",
       "</table>\n",
       "</div>"
      ],
      "text/plain": [
       "          ID_Pedido Data_Compra   Cliente_ID  Valor_Total Categoria_Produto  \\\n",
       "count   1000.000000        1000  1000.000000  1000.000000              1000   \n",
       "unique          NaN         612          NaN          NaN                 5   \n",
       "top             NaN  2024-09-09          NaN          NaN          Esportes   \n",
       "freq            NaN           6          NaN          NaN               220   \n",
       "mean    1500.500000         NaN   549.128000   525.307940               NaN   \n",
       "std      288.819436         NaN    29.573505   275.969012               NaN   \n",
       "min     1001.000000         NaN   500.000000    54.400000               NaN   \n",
       "25%     1250.750000         NaN   523.000000   275.285000               NaN   \n",
       "50%     1500.500000         NaN   550.000000   534.640000               NaN   \n",
       "75%     1750.250000         NaN   574.000000   756.435000               NaN   \n",
       "max     2000.000000         NaN   599.000000   999.440000               NaN   \n",
       "\n",
       "         Quantidade  \n",
       "count   1000.000000  \n",
       "unique          NaN  \n",
       "top             NaN  \n",
       "freq            NaN  \n",
       "mean       4.945000  \n",
       "std        2.614347  \n",
       "min        1.000000  \n",
       "25%        3.000000  \n",
       "50%        5.000000  \n",
       "75%        7.000000  \n",
       "max        9.000000  "
      ]
     },
     "execution_count": 22,
     "metadata": {},
     "output_type": "execute_result"
    }
   ],
   "source": [
    "df.describe(include='all')"
   ]
  }
 ],
 "metadata": {
  "kernelspec": {
   "display_name": ".venv",
   "language": "python",
   "name": "python3"
  },
  "language_info": {
   "codemirror_mode": {
    "name": "ipython",
    "version": 3
   },
   "file_extension": ".py",
   "mimetype": "text/x-python",
   "name": "python",
   "nbconvert_exporter": "python",
   "pygments_lexer": "ipython3",
   "version": "3.12.11"
  }
 },
 "nbformat": 4,
 "nbformat_minor": 5
}
