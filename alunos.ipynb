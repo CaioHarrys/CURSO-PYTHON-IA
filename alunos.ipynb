{
 "cells": [
  {
   "cell_type": "markdown",
   "metadata": {},
   "source": [
    "Nota Media por curso"
   ]
  },
  {
   "cell_type": "code",
   "execution_count": 6,
   "metadata": {},
   "outputs": [
    {
     "name": "stdout",
     "output_type": "stream",
     "text": [
      "2.2.3\n"
     ]
    }
   ],
   "source": [
    "import pandas as pd\n",
    "print(pd.__version__)\n",
    "import matplotlib.pyplot as plt"
   ]
  },
  {
   "cell_type": "code",
   "execution_count": 4,
   "metadata": {},
   "outputs": [],
   "source": [
    "df = pd.read_csv(\"dados_alunos.csv\" , sep = \",\")"
   ]
  },
  {
   "cell_type": "code",
   "execution_count": 5,
   "metadata": {},
   "outputs": [
    {
     "data": {
      "text/html": [
       "<div>\n",
       "<style scoped>\n",
       "    .dataframe tbody tr th:only-of-type {\n",
       "        vertical-align: middle;\n",
       "    }\n",
       "\n",
       "    .dataframe tbody tr th {\n",
       "        vertical-align: top;\n",
       "    }\n",
       "\n",
       "    .dataframe thead th {\n",
       "        text-align: right;\n",
       "    }\n",
       "</style>\n",
       "<table border=\"1\" class=\"dataframe\">\n",
       "  <thead>\n",
       "    <tr style=\"text-align: right;\">\n",
       "      <th></th>\n",
       "      <th>nome</th>\n",
       "      <th>idade</th>\n",
       "      <th>genero</th>\n",
       "      <th>curso</th>\n",
       "      <th>semestre</th>\n",
       "      <th>nota_final</th>\n",
       "      <th>faltas</th>\n",
       "    </tr>\n",
       "  </thead>\n",
       "  <tbody>\n",
       "    <tr>\n",
       "      <th>0</th>\n",
       "      <td>Fernanda</td>\n",
       "      <td>22</td>\n",
       "      <td>F</td>\n",
       "      <td>Engenharia</td>\n",
       "      <td>7</td>\n",
       "      <td>8.85</td>\n",
       "      <td>21</td>\n",
       "    </tr>\n",
       "    <tr>\n",
       "      <th>1</th>\n",
       "      <td>Eduardo</td>\n",
       "      <td>28</td>\n",
       "      <td>M</td>\n",
       "      <td>ADS</td>\n",
       "      <td>1</td>\n",
       "      <td>6.49</td>\n",
       "      <td>9</td>\n",
       "    </tr>\n",
       "    <tr>\n",
       "      <th>2</th>\n",
       "      <td>Igor</td>\n",
       "      <td>24</td>\n",
       "      <td>M</td>\n",
       "      <td>Arquitetura</td>\n",
       "      <td>3</td>\n",
       "      <td>5.85</td>\n",
       "      <td>8</td>\n",
       "    </tr>\n",
       "    <tr>\n",
       "      <th>3</th>\n",
       "      <td>Igor</td>\n",
       "      <td>29</td>\n",
       "      <td>F</td>\n",
       "      <td>Arquitetura</td>\n",
       "      <td>10</td>\n",
       "      <td>5.65</td>\n",
       "      <td>7</td>\n",
       "    </tr>\n",
       "    <tr>\n",
       "      <th>4</th>\n",
       "      <td>Bruno</td>\n",
       "      <td>28</td>\n",
       "      <td>M</td>\n",
       "      <td>Arquitetura</td>\n",
       "      <td>7</td>\n",
       "      <td>8.64</td>\n",
       "      <td>5</td>\n",
       "    </tr>\n",
       "    <tr>\n",
       "      <th>...</th>\n",
       "      <td>...</td>\n",
       "      <td>...</td>\n",
       "      <td>...</td>\n",
       "      <td>...</td>\n",
       "      <td>...</td>\n",
       "      <td>...</td>\n",
       "      <td>...</td>\n",
       "    </tr>\n",
       "    <tr>\n",
       "      <th>95</th>\n",
       "      <td>Helena</td>\n",
       "      <td>26</td>\n",
       "      <td>M</td>\n",
       "      <td>ADS</td>\n",
       "      <td>2</td>\n",
       "      <td>6.65</td>\n",
       "      <td>21</td>\n",
       "    </tr>\n",
       "    <tr>\n",
       "      <th>96</th>\n",
       "      <td>Carlos</td>\n",
       "      <td>20</td>\n",
       "      <td>F</td>\n",
       "      <td>Engenharia</td>\n",
       "      <td>8</td>\n",
       "      <td>9.33</td>\n",
       "      <td>24</td>\n",
       "    </tr>\n",
       "    <tr>\n",
       "      <th>97</th>\n",
       "      <td>Diana</td>\n",
       "      <td>27</td>\n",
       "      <td>M</td>\n",
       "      <td>Direito</td>\n",
       "      <td>1</td>\n",
       "      <td>9.31</td>\n",
       "      <td>17</td>\n",
       "    </tr>\n",
       "    <tr>\n",
       "      <th>98</th>\n",
       "      <td>Igor</td>\n",
       "      <td>27</td>\n",
       "      <td>F</td>\n",
       "      <td>Medicina</td>\n",
       "      <td>9</td>\n",
       "      <td>8.88</td>\n",
       "      <td>17</td>\n",
       "    </tr>\n",
       "    <tr>\n",
       "      <th>99</th>\n",
       "      <td>Carlos</td>\n",
       "      <td>22</td>\n",
       "      <td>F</td>\n",
       "      <td>Medicina</td>\n",
       "      <td>8</td>\n",
       "      <td>9.75</td>\n",
       "      <td>21</td>\n",
       "    </tr>\n",
       "  </tbody>\n",
       "</table>\n",
       "<p>100 rows × 7 columns</p>\n",
       "</div>"
      ],
      "text/plain": [
       "        nome  idade genero        curso  semestre  nota_final  faltas\n",
       "0   Fernanda     22      F   Engenharia         7        8.85      21\n",
       "1    Eduardo     28      M          ADS         1        6.49       9\n",
       "2       Igor     24      M  Arquitetura         3        5.85       8\n",
       "3       Igor     29      F  Arquitetura        10        5.65       7\n",
       "4      Bruno     28      M  Arquitetura         7        8.64       5\n",
       "..       ...    ...    ...          ...       ...         ...     ...\n",
       "95    Helena     26      M          ADS         2        6.65      21\n",
       "96    Carlos     20      F   Engenharia         8        9.33      24\n",
       "97     Diana     27      M      Direito         1        9.31      17\n",
       "98      Igor     27      F     Medicina         9        8.88      17\n",
       "99    Carlos     22      F     Medicina         8        9.75      21\n",
       "\n",
       "[100 rows x 7 columns]"
      ]
     },
     "execution_count": 5,
     "metadata": {},
     "output_type": "execute_result"
    }
   ],
   "source": [
    "df"
   ]
  },
  {
   "cell_type": "code",
   "execution_count": 8,
   "metadata": {},
   "outputs": [
    {
     "name": "stdout",
     "output_type": "stream",
     "text": [
      "curso\n",
      "ADS            7.312308\n",
      "Arquitetura    7.309500\n",
      "Direito        7.869375\n",
      "Engenharia     7.722727\n",
      "Medicina       7.660000\n",
      "Name: nota_final, dtype: float64\n"
     ]
    }
   ],
   "source": [
    "\n",
    "media_por_curso = df.groupby('curso')['nota_final'].mean()\n",
    "print(media_por_curso)\n"
   ]
  },
  {
   "cell_type": "code",
   "execution_count": null,
   "metadata": {},
   "outputs": [
    {
     "name": "stdout",
     "output_type": "stream",
     "text": [
      "genero        F   M\n",
      "curso              \n",
      "ADS          17   9\n",
      "Arquitetura  12   8\n",
      "Direito      11   5\n",
      "Engenharia   11  11\n",
      "Medicina     13   3\n"
     ]
    }
   ],
   "source": [
    "\n",
    "quantidade_por_curso_genero = df.groupby(['curso', 'genero'])['nome'].count().unstack(fill_value=0)\n",
    "\n",
    "print(quantidade_por_curso_genero)\n"
   ]
  },
  {
   "cell_type": "code",
   "execution_count": 10,
   "metadata": {},
   "outputs": [
    {
     "name": "stdout",
     "output_type": "stream",
     "text": [
      "curso\n",
      "ADS            5.88\n",
      "Arquitetura    5.90\n",
      "Direito        5.38\n",
      "Engenharia     5.86\n",
      "Medicina       6.38\n",
      "Name: semestre, dtype: float64\n"
     ]
    }
   ],
   "source": [
    "df = pd.read_csv('dados_alunos.csv')\n",
    "\n",
    "# Calcular a média do semestre por curso\n",
    "media_semestre_por_curso = df.groupby('curso')['semestre'].mean().round(2)\n",
    "\n",
    "print(media_semestre_por_curso)"
   ]
  },
  {
   "cell_type": "code",
   "execution_count": null,
   "metadata": {},
   "outputs": [
    {
     "name": "stdout",
     "output_type": "stream",
     "text": [
      "   Semestre  Média de Idade\n",
      "0         1       27.700000\n",
      "1         2       26.666667\n",
      "2         3       26.333333\n",
      "3         4       25.125000\n",
      "4         5       31.833333\n",
      "5         6       26.777778\n",
      "6         7       24.833333\n",
      "7         8       24.923077\n",
      "8         9       23.727273\n",
      "9        10       26.384615\n"
     ]
    }
   ],
   "source": [
    "# Calcular a média de idade por semestre\n",
    "media_idade_por_semestre = df.groupby('semestre')['idade'].mean().reset_index()\n",
    "media_idade_por_semestre.columns = ['Semestre', 'Média de Idade']\n",
    "\n",
    "# Exibir o resultados\n",
    "print(media_idade_por_semestre)"
   ]
  }
 ],
 "metadata": {
  "kernelspec": {
   "display_name": ".venv",
   "language": "python",
   "name": "python3"
  },
  "language_info": {
   "codemirror_mode": {
    "name": "ipython",
    "version": 3
   },
   "file_extension": ".py",
   "mimetype": "text/x-python",
   "name": "python",
   "nbconvert_exporter": "python",
   "pygments_lexer": "ipython3",
   "version": "3.13.2"
  }
 },
 "nbformat": 4,
 "nbformat_minor": 2
}
