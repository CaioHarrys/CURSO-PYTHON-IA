{
 "cells": [
  {
   "cell_type": "markdown",
   "id": "88b79d10",
   "metadata": {},
   "source": [
    "# Lista de Revisão"
   ]
  },
  {
   "cell_type": "code",
   "execution_count": 1,
   "id": "13d1dca5",
   "metadata": {},
   "outputs": [],
   "source": [
    "import pandas as pd\n",
    "import numpy as np\n",
    "import matplotlib.pyplot as plt\n",
    "import seaborn as sns"
   ]
  },
  {
   "cell_type": "markdown",
   "id": "ae54d471",
   "metadata": {},
   "source": [
    "# Verificar se a palavra é 'Python'"
   ]
  },
  {
   "cell_type": "code",
   "execution_count": null,
   "id": "e13a0383",
   "metadata": {},
   "outputs": [],
   "source": [
    "palavra = input(\"Digite uma palavra: \")\n",
    "if palavra.lower() == \"python\":\n",
    "    print(\"Você digitou Python!\")\n",
    "else:\n",
    "    print(\"A palavra digitada não é Python.\")"
   ]
  },
  {
   "cell_type": "markdown",
   "id": "e917a6fd",
   "metadata": {},
   "source": [
    "# Verificar se a cidade é a capital do Brasil"
   ]
  },
  {
   "cell_type": "code",
   "execution_count": null,
   "id": "8a729953",
   "metadata": {},
   "outputs": [],
   "source": [
    "cidade = input(\"Digite o nome de uma cidade: \")\n",
    "if cidade.strip().lower() == \"brasília\":\n",
    "    print(\"Brasília é a capital do Brasil.\")\n",
    "else:\n",
    "    print(\"Essa cidade não é a capital do Brasil.\")"
   ]
  },
  {
   "cell_type": "markdown",
   "id": "7c2807ac",
   "metadata": {},
   "source": [
    "# Verificar se o número está entre 10 e 15"
   ]
  },
  {
   "cell_type": "code",
   "execution_count": null,
   "id": "5a85740a",
   "metadata": {},
   "outputs": [],
   "source": [
    "numero = int(input(\"Digite um número de 0 a 20: \"))\n",
    "if 10 <= numero <= 15:\n",
    "    print(\"O número está entre 10 e 15.\")\n",
    "else:\n",
    "    print(\"O número NÃO está entre 10 e 15.\")"
   ]
  },
  {
   "cell_type": "markdown",
   "id": "4b6e098d",
   "metadata": {},
   "source": [
    "# Verificar se dois números são múltiplos de 5"
   ]
  },
  {
   "cell_type": "code",
   "execution_count": null,
   "id": "a2b384ab",
   "metadata": {},
   "outputs": [],
   "source": [
    "a = int(input(\"Digite o primeiro número: \"))\n",
    "b = int(input(\"Digite o segundo número: \"))\n",
    "if a % 5 == 0 and b % 5 == 0:\n",
    "    print(\"Ambos são múltiplos de 5.\")\n",
    "else:\n",
    "    print(\"Um ou ambos os números NÃO são múltiplos de 5.\")"
   ]
  },
  {
   "cell_type": "markdown",
   "id": "ee16ddf0",
   "metadata": {},
   "source": [
    "# Exibir o maior entre três números"
   ]
  },
  {
   "cell_type": "code",
   "execution_count": null,
   "id": "9ddd1c4b",
   "metadata": {},
   "outputs": [],
   "source": [
    "n1 = float(input(\"Digite o primeiro número: \"))\n",
    "n2 = float(input(\"Digite o segundo número: \"))\n",
    "n3 = float(input(\"Digite o terceiro número: \"))\n",
    "maior = max(n1, n2, n3)\n",
    "print(f\"O maior número é: {maior}\")"
   ]
  },
  {
   "cell_type": "markdown",
   "id": "8503f764",
   "metadata": {},
   "source": [
    "# Verificar se a palavra tem mais de 5 letras"
   ]
  },
  {
   "cell_type": "code",
   "execution_count": null,
   "id": "5fa35187",
   "metadata": {},
   "outputs": [],
   "source": [
    "palavra = input(\"Digite uma palavra: \")\n",
    "if len(palavra) > 5:\n",
    "    print(\"A palavra tem mais de 5 letras.\")\n",
    "else:\n",
    "    print(\"A palavra tem 5 letras ou menos.\")"
   ]
  },
  {
   "cell_type": "markdown",
   "id": "1f5b3e34",
   "metadata": {},
   "source": [
    "# Verificar se um número é múltiplo de 3"
   ]
  },
  {
   "cell_type": "code",
   "execution_count": null,
   "id": "1f76b45d",
   "metadata": {},
   "outputs": [],
   "source": [
    "numero = int(input(\"Digite um número: \"))\n",
    "if numero % 3 == 0:\n",
    "    print(\"O número é múltiplo de 3.\")\n",
    "else:\n",
    "    print(\"O número NÃO é múltiplo de 3.\")"
   ]
  },
  {
   "cell_type": "markdown",
   "id": "677e3de0",
   "metadata": {},
   "source": [
    "# Verificar se idade é maior ou igual a 18\n"
   ]
  },
  {
   "cell_type": "code",
   "execution_count": null,
   "id": "15f46c2a",
   "metadata": {},
   "outputs": [],
   "source": [
    "idade = int(input(\"Digite sua idade: \"))\n",
    "\n",
    "if idade >= 18:\n",
    "    print(\"Você é maior de idade.\")\n",
    "else:\n",
    "    print(\"Você é menor de idade.\")\n"
   ]
  },
  {
   "cell_type": "markdown",
   "id": "02180908",
   "metadata": {},
   "source": [
    "# Mensagem de boas-vindas personalizada"
   ]
  },
  {
   "cell_type": "code",
   "execution_count": null,
   "id": "46cf21a9",
   "metadata": {},
   "outputs": [],
   "source": [
    "nome = input(\"Digite seu nome: \")\n",
    "print(f\"Seja bem-vindo meu queridx, {nome}!\")\n"
   ]
  },
  {
   "cell_type": "markdown",
   "id": "a0f7fe16",
   "metadata": {},
   "source": [
    "# Escolher modo de transporte e exibir velocidade média"
   ]
  },
  {
   "cell_type": "code",
   "execution_count": null,
   "id": "2f5dc9fd",
   "metadata": {},
   "outputs": [],
   "source": [
    "print(\"Escolha um modo de transporte: carro, bicicleta ou a pé\")\n",
    "transporte = input(\"Modo de transporte: \").lower()\n",
    "\n",
    "if transporte == \"carro\":\n",
    "    print(\"Velocidade média: 80 km/h\")\n",
    "elif transporte == \"bicicleta\":\n",
    "    print(\"Velocidade média: 20 km/h\")\n",
    "elif transporte == \"a pé\":\n",
    "    print(\"Velocidade média: 5 km/h\")\n",
    "else:\n",
    "    print(\"Modo de transporte não reconhecido.\")\n"
   ]
  },
  {
   "cell_type": "markdown",
   "id": "5a1cf966",
   "metadata": {},
   "source": [
    "# Mês do ano e estação correspondente"
   ]
  },
  {
   "cell_type": "code",
   "execution_count": null,
   "id": "24e3dbf4",
   "metadata": {},
   "outputs": [],
   "source": [
    "mes = int(input(\"Digite o número do mês (1 a 12): \"))\n",
    "\n",
    "if mes in [12, 1, 2]:\n",
    "    estacao = \"Verão\"\n",
    "elif mes in [3, 4, 5]:\n",
    "    estacao = \"Outono\"\n",
    "elif mes in [6, 7, 8]:\n",
    "    estacao = \"Inverno\"\n",
    "elif mes in [9, 10, 11]:\n",
    "    estacao = \"Primavera\"\n",
    "else:\n",
    "    estacao = \"Mês inválido\"\n",
    "\n",
    "print(f\"Estação do ano: {estacao}\")\n"
   ]
  },
  {
   "cell_type": "markdown",
   "id": "ce0787b5",
   "metadata": {},
   "source": [
    "# Soma de dois números e verificação se é maior que 100"
   ]
  },
  {
   "cell_type": "code",
   "execution_count": null,
   "id": "02bc4785",
   "metadata": {},
   "outputs": [],
   "source": [
    "num1 = float(input(\"Digite o primeiro número: \"))\n",
    "num2 = float(input(\"Digite o segundo número: \"))\n",
    "soma = num1 + num2\n",
    "\n",
    "if soma > 100:\n",
    "    print(f\"A soma é {soma} e é maior que 100.\")\n",
    "else:\n",
    "    print(f\"A soma é {soma} e NÃO é maior que 100.\")\n"
   ]
  }
 ],
 "metadata": {
  "kernelspec": {
   "display_name": ".venv",
   "language": "python",
   "name": "python3"
  },
  "language_info": {
   "codemirror_mode": {
    "name": "ipython",
    "version": 3
   },
   "file_extension": ".py",
   "mimetype": "text/x-python",
   "name": "python",
   "nbconvert_exporter": "python",
   "pygments_lexer": "ipython3",
   "version": "3.12.11"
  }
 },
 "nbformat": 4,
 "nbformat_minor": 5
}
